{
  "cells": [
    {
      "cell_type": "markdown",
      "metadata": {
        "id": "view-in-github",
        "colab_type": "text"
      },
      "source": [
        "<a href=\"https://colab.research.google.com/github/karthik4032/YULU_BIKES/blob/main/Yulu_Biz_Case_Study.ipynb\" target=\"_parent\"><img src=\"https://colab.research.google.com/assets/colab-badge.svg\" alt=\"Open In Colab\"/></a>"
      ]
    },
    {
      "cell_type": "markdown",
      "source": [
        "### Problem Statement:"
      ],
      "metadata": {
        "id": "emgc5Jymgwd8"
      },
      "id": "emgc5Jymgwd8"
    },
    {
      "cell_type": "code",
      "source": [
        "# Importing required libraries -\n",
        "import pandas as pd\n",
        "import numpy as np\n",
        "import seaborn as sbn\n",
        "import matplotlib.pyplot as plt\n",
        "from scipy import stats\n",
        "from scipy.stats import ttest_ind # T-test for independent samples\n",
        "from scipy.stats import shapiro # Shapiro-Wilk’s test for Normality\n",
        "from scipy.stats import levene # Levene's test for Equality of Variance\n",
        "from scipy.stats import f_oneway # One-way ANOVA\n",
        "from scipy.stats import chi2_contingency # Chi-square test of independence\n",
        "# from scipy.stats import kstest # KS test for Normality"
      ],
      "metadata": {
        "id": "4W2K3olTgx10"
      },
      "id": "4W2K3olTgx10",
      "execution_count": null,
      "outputs": []
    },
    {
      "cell_type": "code",
      "source": [
        "import warnings\n",
        "warnings.simplefilter('ignore')"
      ],
      "metadata": {
        "id": "TvcaNytt7W_L"
      },
      "id": "TvcaNytt7W_L",
      "execution_count": null,
      "outputs": []
    },
    {
      "cell_type": "code",
      "source": [
        "from pydrive.auth import GoogleAuth\n",
        "from pydrive.drive import GoogleDrive\n",
        "from google.colab import auth\n",
        "from oauth2client.client import GoogleCredentials\n",
        "\n",
        "auth.authenticate_user()\n",
        "gauth = GoogleAuth()\n",
        "gauth.credentials = GoogleCredentials.get_application_default()\n",
        "drive = GoogleDrive(gauth)\n",
        "\n",
        "link = 'https://drive.google.com/file/d/1o94fXnmvrx6jRgI6S-SeZ3tfnKjCDY0i/view?usp=sharing'\n",
        "\n",
        "id = link.split(\"/\")[-2]\n",
        "\n",
        "downloaded = drive.CreateFile({'id':id})\n",
        "downloaded.GetContentFile('bike_sharing.csv')"
      ],
      "metadata": {
        "id": "HAxlEzIIUmST"
      },
      "id": "HAxlEzIIUmST",
      "execution_count": null,
      "outputs": []
    },
    {
      "cell_type": "code",
      "execution_count": null,
      "id": "3c011fa5",
      "metadata": {
        "id": "3c011fa5",
        "outputId": "9bec585f-bc86-4d7b-f6b4-0c48a72cc5c3",
        "colab": {
          "base_uri": "https://localhost:8080/",
          "height": 363
        }
      },
      "outputs": [
        {
          "output_type": "execute_result",
          "data": {
            "text/plain": [
              "                  datetime  season  holiday  workingday  weather   temp  \\\n",
              "87     2011-01-04 19:00:00       1        0           1        1   9.84   \n",
              "527    2011-02-05 03:00:00       1        0           0        2   9.84   \n",
              "3884   2011-09-12 21:00:00       3        0           1        1  26.24   \n",
              "4421   2011-10-16 06:00:00       4        0           0        1  15.58   \n",
              "4590   2011-11-04 08:00:00       4        0           1        2  16.40   \n",
              "8566   2012-07-18 07:00:00       3        0           1        1  30.34   \n",
              "9766   2012-10-11 07:00:00       4        0           1        1  14.76   \n",
              "9889   2012-10-16 10:00:00       4        0           1        1  20.50   \n",
              "10332  2012-11-15 22:00:00       4        0           1        2  13.12   \n",
              "10412  2012-11-19 06:00:00       4        0           1        2  14.76   \n",
              "\n",
              "        atemp  humidity  windspeed  casual  registered  count  \n",
              "87     12.880        48     7.0015       2         110    112  \n",
              "527    12.120        75    11.0014       1          10     11  \n",
              "3884   30.305        73     6.0032      29         166    195  \n",
              "4421   19.695        66    11.0014       3           7     10  \n",
              "4590   20.455        87    23.9994       8         387    395  \n",
              "8566   34.850        66    11.0014      23         472    495  \n",
              "9766   16.665        50    16.9979      11         467    478  \n",
              "9889   24.240        48    19.0012      65         157    222  \n",
              "10332  15.910        66    11.0014      10         143    153  \n",
              "10412  16.665        66    16.9979       3         128    131  "
            ],
            "text/html": [
              "\n",
              "  <div id=\"df-8ef84609-386a-4370-b5fa-251af0f217be\" class=\"colab-df-container\">\n",
              "    <div>\n",
              "<style scoped>\n",
              "    .dataframe tbody tr th:only-of-type {\n",
              "        vertical-align: middle;\n",
              "    }\n",
              "\n",
              "    .dataframe tbody tr th {\n",
              "        vertical-align: top;\n",
              "    }\n",
              "\n",
              "    .dataframe thead th {\n",
              "        text-align: right;\n",
              "    }\n",
              "</style>\n",
              "<table border=\"1\" class=\"dataframe\">\n",
              "  <thead>\n",
              "    <tr style=\"text-align: right;\">\n",
              "      <th></th>\n",
              "      <th>datetime</th>\n",
              "      <th>season</th>\n",
              "      <th>holiday</th>\n",
              "      <th>workingday</th>\n",
              "      <th>weather</th>\n",
              "      <th>temp</th>\n",
              "      <th>atemp</th>\n",
              "      <th>humidity</th>\n",
              "      <th>windspeed</th>\n",
              "      <th>casual</th>\n",
              "      <th>registered</th>\n",
              "      <th>count</th>\n",
              "    </tr>\n",
              "  </thead>\n",
              "  <tbody>\n",
              "    <tr>\n",
              "      <th>87</th>\n",
              "      <td>2011-01-04 19:00:00</td>\n",
              "      <td>1</td>\n",
              "      <td>0</td>\n",
              "      <td>1</td>\n",
              "      <td>1</td>\n",
              "      <td>9.84</td>\n",
              "      <td>12.880</td>\n",
              "      <td>48</td>\n",
              "      <td>7.0015</td>\n",
              "      <td>2</td>\n",
              "      <td>110</td>\n",
              "      <td>112</td>\n",
              "    </tr>\n",
              "    <tr>\n",
              "      <th>527</th>\n",
              "      <td>2011-02-05 03:00:00</td>\n",
              "      <td>1</td>\n",
              "      <td>0</td>\n",
              "      <td>0</td>\n",
              "      <td>2</td>\n",
              "      <td>9.84</td>\n",
              "      <td>12.120</td>\n",
              "      <td>75</td>\n",
              "      <td>11.0014</td>\n",
              "      <td>1</td>\n",
              "      <td>10</td>\n",
              "      <td>11</td>\n",
              "    </tr>\n",
              "    <tr>\n",
              "      <th>3884</th>\n",
              "      <td>2011-09-12 21:00:00</td>\n",
              "      <td>3</td>\n",
              "      <td>0</td>\n",
              "      <td>1</td>\n",
              "      <td>1</td>\n",
              "      <td>26.24</td>\n",
              "      <td>30.305</td>\n",
              "      <td>73</td>\n",
              "      <td>6.0032</td>\n",
              "      <td>29</td>\n",
              "      <td>166</td>\n",
              "      <td>195</td>\n",
              "    </tr>\n",
              "    <tr>\n",
              "      <th>4421</th>\n",
              "      <td>2011-10-16 06:00:00</td>\n",
              "      <td>4</td>\n",
              "      <td>0</td>\n",
              "      <td>0</td>\n",
              "      <td>1</td>\n",
              "      <td>15.58</td>\n",
              "      <td>19.695</td>\n",
              "      <td>66</td>\n",
              "      <td>11.0014</td>\n",
              "      <td>3</td>\n",
              "      <td>7</td>\n",
              "      <td>10</td>\n",
              "    </tr>\n",
              "    <tr>\n",
              "      <th>4590</th>\n",
              "      <td>2011-11-04 08:00:00</td>\n",
              "      <td>4</td>\n",
              "      <td>0</td>\n",
              "      <td>1</td>\n",
              "      <td>2</td>\n",
              "      <td>16.40</td>\n",
              "      <td>20.455</td>\n",
              "      <td>87</td>\n",
              "      <td>23.9994</td>\n",
              "      <td>8</td>\n",
              "      <td>387</td>\n",
              "      <td>395</td>\n",
              "    </tr>\n",
              "    <tr>\n",
              "      <th>8566</th>\n",
              "      <td>2012-07-18 07:00:00</td>\n",
              "      <td>3</td>\n",
              "      <td>0</td>\n",
              "      <td>1</td>\n",
              "      <td>1</td>\n",
              "      <td>30.34</td>\n",
              "      <td>34.850</td>\n",
              "      <td>66</td>\n",
              "      <td>11.0014</td>\n",
              "      <td>23</td>\n",
              "      <td>472</td>\n",
              "      <td>495</td>\n",
              "    </tr>\n",
              "    <tr>\n",
              "      <th>9766</th>\n",
              "      <td>2012-10-11 07:00:00</td>\n",
              "      <td>4</td>\n",
              "      <td>0</td>\n",
              "      <td>1</td>\n",
              "      <td>1</td>\n",
              "      <td>14.76</td>\n",
              "      <td>16.665</td>\n",
              "      <td>50</td>\n",
              "      <td>16.9979</td>\n",
              "      <td>11</td>\n",
              "      <td>467</td>\n",
              "      <td>478</td>\n",
              "    </tr>\n",
              "    <tr>\n",
              "      <th>9889</th>\n",
              "      <td>2012-10-16 10:00:00</td>\n",
              "      <td>4</td>\n",
              "      <td>0</td>\n",
              "      <td>1</td>\n",
              "      <td>1</td>\n",
              "      <td>20.50</td>\n",
              "      <td>24.240</td>\n",
              "      <td>48</td>\n",
              "      <td>19.0012</td>\n",
              "      <td>65</td>\n",
              "      <td>157</td>\n",
              "      <td>222</td>\n",
              "    </tr>\n",
              "    <tr>\n",
              "      <th>10332</th>\n",
              "      <td>2012-11-15 22:00:00</td>\n",
              "      <td>4</td>\n",
              "      <td>0</td>\n",
              "      <td>1</td>\n",
              "      <td>2</td>\n",
              "      <td>13.12</td>\n",
              "      <td>15.910</td>\n",
              "      <td>66</td>\n",
              "      <td>11.0014</td>\n",
              "      <td>10</td>\n",
              "      <td>143</td>\n",
              "      <td>153</td>\n",
              "    </tr>\n",
              "    <tr>\n",
              "      <th>10412</th>\n",
              "      <td>2012-11-19 06:00:00</td>\n",
              "      <td>4</td>\n",
              "      <td>0</td>\n",
              "      <td>1</td>\n",
              "      <td>2</td>\n",
              "      <td>14.76</td>\n",
              "      <td>16.665</td>\n",
              "      <td>66</td>\n",
              "      <td>16.9979</td>\n",
              "      <td>3</td>\n",
              "      <td>128</td>\n",
              "      <td>131</td>\n",
              "    </tr>\n",
              "  </tbody>\n",
              "</table>\n",
              "</div>\n",
              "    <div class=\"colab-df-buttons\">\n",
              "\n",
              "  <div class=\"colab-df-container\">\n",
              "    <button class=\"colab-df-convert\" onclick=\"convertToInteractive('df-8ef84609-386a-4370-b5fa-251af0f217be')\"\n",
              "            title=\"Convert this dataframe to an interactive table.\"\n",
              "            style=\"display:none;\">\n",
              "\n",
              "  <svg xmlns=\"http://www.w3.org/2000/svg\" height=\"24px\" viewBox=\"0 -960 960 960\">\n",
              "    <path d=\"M120-120v-720h720v720H120Zm60-500h600v-160H180v160Zm220 220h160v-160H400v160Zm0 220h160v-160H400v160ZM180-400h160v-160H180v160Zm440 0h160v-160H620v160ZM180-180h160v-160H180v160Zm440 0h160v-160H620v160Z\"/>\n",
              "  </svg>\n",
              "    </button>\n",
              "\n",
              "  <style>\n",
              "    .colab-df-container {\n",
              "      display:flex;\n",
              "      gap: 12px;\n",
              "    }\n",
              "\n",
              "    .colab-df-convert {\n",
              "      background-color: #E8F0FE;\n",
              "      border: none;\n",
              "      border-radius: 50%;\n",
              "      cursor: pointer;\n",
              "      display: none;\n",
              "      fill: #1967D2;\n",
              "      height: 32px;\n",
              "      padding: 0 0 0 0;\n",
              "      width: 32px;\n",
              "    }\n",
              "\n",
              "    .colab-df-convert:hover {\n",
              "      background-color: #E2EBFA;\n",
              "      box-shadow: 0px 1px 2px rgba(60, 64, 67, 0.3), 0px 1px 3px 1px rgba(60, 64, 67, 0.15);\n",
              "      fill: #174EA6;\n",
              "    }\n",
              "\n",
              "    .colab-df-buttons div {\n",
              "      margin-bottom: 4px;\n",
              "    }\n",
              "\n",
              "    [theme=dark] .colab-df-convert {\n",
              "      background-color: #3B4455;\n",
              "      fill: #D2E3FC;\n",
              "    }\n",
              "\n",
              "    [theme=dark] .colab-df-convert:hover {\n",
              "      background-color: #434B5C;\n",
              "      box-shadow: 0px 1px 3px 1px rgba(0, 0, 0, 0.15);\n",
              "      filter: drop-shadow(0px 1px 2px rgba(0, 0, 0, 0.3));\n",
              "      fill: #FFFFFF;\n",
              "    }\n",
              "  </style>\n",
              "\n",
              "    <script>\n",
              "      const buttonEl =\n",
              "        document.querySelector('#df-8ef84609-386a-4370-b5fa-251af0f217be button.colab-df-convert');\n",
              "      buttonEl.style.display =\n",
              "        google.colab.kernel.accessAllowed ? 'block' : 'none';\n",
              "\n",
              "      async function convertToInteractive(key) {\n",
              "        const element = document.querySelector('#df-8ef84609-386a-4370-b5fa-251af0f217be');\n",
              "        const dataTable =\n",
              "          await google.colab.kernel.invokeFunction('convertToInteractive',\n",
              "                                                    [key], {});\n",
              "        if (!dataTable) return;\n",
              "\n",
              "        const docLinkHtml = 'Like what you see? Visit the ' +\n",
              "          '<a target=\"_blank\" href=https://colab.research.google.com/notebooks/data_table.ipynb>data table notebook</a>'\n",
              "          + ' to learn more about interactive tables.';\n",
              "        element.innerHTML = '';\n",
              "        dataTable['output_type'] = 'display_data';\n",
              "        await google.colab.output.renderOutput(dataTable, element);\n",
              "        const docLink = document.createElement('div');\n",
              "        docLink.innerHTML = docLinkHtml;\n",
              "        element.appendChild(docLink);\n",
              "      }\n",
              "    </script>\n",
              "  </div>\n",
              "\n",
              "\n",
              "<div id=\"df-c2cb5c59-53d9-4865-b069-fe735c135483\">\n",
              "  <button class=\"colab-df-quickchart\" onclick=\"quickchart('df-c2cb5c59-53d9-4865-b069-fe735c135483')\"\n",
              "            title=\"Suggest charts\"\n",
              "            style=\"display:none;\">\n",
              "\n",
              "<svg xmlns=\"http://www.w3.org/2000/svg\" height=\"24px\"viewBox=\"0 0 24 24\"\n",
              "     width=\"24px\">\n",
              "    <g>\n",
              "        <path d=\"M19 3H5c-1.1 0-2 .9-2 2v14c0 1.1.9 2 2 2h14c1.1 0 2-.9 2-2V5c0-1.1-.9-2-2-2zM9 17H7v-7h2v7zm4 0h-2V7h2v10zm4 0h-2v-4h2v4z\"/>\n",
              "    </g>\n",
              "</svg>\n",
              "  </button>\n",
              "\n",
              "<style>\n",
              "  .colab-df-quickchart {\n",
              "      --bg-color: #E8F0FE;\n",
              "      --fill-color: #1967D2;\n",
              "      --hover-bg-color: #E2EBFA;\n",
              "      --hover-fill-color: #174EA6;\n",
              "      --disabled-fill-color: #AAA;\n",
              "      --disabled-bg-color: #DDD;\n",
              "  }\n",
              "\n",
              "  [theme=dark] .colab-df-quickchart {\n",
              "      --bg-color: #3B4455;\n",
              "      --fill-color: #D2E3FC;\n",
              "      --hover-bg-color: #434B5C;\n",
              "      --hover-fill-color: #FFFFFF;\n",
              "      --disabled-bg-color: #3B4455;\n",
              "      --disabled-fill-color: #666;\n",
              "  }\n",
              "\n",
              "  .colab-df-quickchart {\n",
              "    background-color: var(--bg-color);\n",
              "    border: none;\n",
              "    border-radius: 50%;\n",
              "    cursor: pointer;\n",
              "    display: none;\n",
              "    fill: var(--fill-color);\n",
              "    height: 32px;\n",
              "    padding: 0;\n",
              "    width: 32px;\n",
              "  }\n",
              "\n",
              "  .colab-df-quickchart:hover {\n",
              "    background-color: var(--hover-bg-color);\n",
              "    box-shadow: 0 1px 2px rgba(60, 64, 67, 0.3), 0 1px 3px 1px rgba(60, 64, 67, 0.15);\n",
              "    fill: var(--button-hover-fill-color);\n",
              "  }\n",
              "\n",
              "  .colab-df-quickchart-complete:disabled,\n",
              "  .colab-df-quickchart-complete:disabled:hover {\n",
              "    background-color: var(--disabled-bg-color);\n",
              "    fill: var(--disabled-fill-color);\n",
              "    box-shadow: none;\n",
              "  }\n",
              "\n",
              "  .colab-df-spinner {\n",
              "    border: 2px solid var(--fill-color);\n",
              "    border-color: transparent;\n",
              "    border-bottom-color: var(--fill-color);\n",
              "    animation:\n",
              "      spin 1s steps(1) infinite;\n",
              "  }\n",
              "\n",
              "  @keyframes spin {\n",
              "    0% {\n",
              "      border-color: transparent;\n",
              "      border-bottom-color: var(--fill-color);\n",
              "      border-left-color: var(--fill-color);\n",
              "    }\n",
              "    20% {\n",
              "      border-color: transparent;\n",
              "      border-left-color: var(--fill-color);\n",
              "      border-top-color: var(--fill-color);\n",
              "    }\n",
              "    30% {\n",
              "      border-color: transparent;\n",
              "      border-left-color: var(--fill-color);\n",
              "      border-top-color: var(--fill-color);\n",
              "      border-right-color: var(--fill-color);\n",
              "    }\n",
              "    40% {\n",
              "      border-color: transparent;\n",
              "      border-right-color: var(--fill-color);\n",
              "      border-top-color: var(--fill-color);\n",
              "    }\n",
              "    60% {\n",
              "      border-color: transparent;\n",
              "      border-right-color: var(--fill-color);\n",
              "    }\n",
              "    80% {\n",
              "      border-color: transparent;\n",
              "      border-right-color: var(--fill-color);\n",
              "      border-bottom-color: var(--fill-color);\n",
              "    }\n",
              "    90% {\n",
              "      border-color: transparent;\n",
              "      border-bottom-color: var(--fill-color);\n",
              "    }\n",
              "  }\n",
              "</style>\n",
              "\n",
              "  <script>\n",
              "    async function quickchart(key) {\n",
              "      const quickchartButtonEl =\n",
              "        document.querySelector('#' + key + ' button');\n",
              "      quickchartButtonEl.disabled = true;  // To prevent multiple clicks.\n",
              "      quickchartButtonEl.classList.add('colab-df-spinner');\n",
              "      try {\n",
              "        const charts = await google.colab.kernel.invokeFunction(\n",
              "            'suggestCharts', [key], {});\n",
              "      } catch (error) {\n",
              "        console.error('Error during call to suggestCharts:', error);\n",
              "      }\n",
              "      quickchartButtonEl.classList.remove('colab-df-spinner');\n",
              "      quickchartButtonEl.classList.add('colab-df-quickchart-complete');\n",
              "    }\n",
              "    (() => {\n",
              "      let quickchartButtonEl =\n",
              "        document.querySelector('#df-c2cb5c59-53d9-4865-b069-fe735c135483 button');\n",
              "      quickchartButtonEl.style.display =\n",
              "        google.colab.kernel.accessAllowed ? 'block' : 'none';\n",
              "    })();\n",
              "  </script>\n",
              "</div>\n",
              "    </div>\n",
              "  </div>\n"
            ],
            "application/vnd.google.colaboratory.intrinsic+json": {
              "type": "dataframe",
              "repr_error": "'str' object has no attribute 'empty'"
            }
          },
          "metadata": {},
          "execution_count": 56
        }
      ],
      "source": [
        "# Loading the dataset -\n",
        "df=pd.read_csv('bike_sharing.csv')\n",
        "df.sample(10).sort_values(by=\"datetime\")"
      ]
    },
    {
      "cell_type": "code",
      "source": [
        "# Shape of the dataset -\n",
        "print(\"No. of rows : \", df.shape[0])"
      ],
      "metadata": {
        "id": "WO2Y15xQZLzh",
        "outputId": "522aa711-7872-4a12-ea6c-0a2d29c2ca4f",
        "colab": {
          "base_uri": "https://localhost:8080/"
        }
      },
      "id": "WO2Y15xQZLzh",
      "execution_count": null,
      "outputs": [
        {
          "output_type": "stream",
          "name": "stdout",
          "text": [
            "No. of rows :  10886\n"
          ]
        }
      ]
    },
    {
      "cell_type": "code",
      "execution_count": null,
      "id": "aa0e522d",
      "metadata": {
        "id": "aa0e522d",
        "outputId": "9d1608c1-23b8-44ae-b678-b5091523de52",
        "colab": {
          "base_uri": "https://localhost:8080/"
        }
      },
      "outputs": [
        {
          "output_type": "stream",
          "name": "stdout",
          "text": [
            "<class 'pandas.core.frame.DataFrame'>\n",
            "RangeIndex: 10886 entries, 0 to 10885\n",
            "Data columns (total 12 columns):\n",
            " #   Column      Non-Null Count  Dtype  \n",
            "---  ------      --------------  -----  \n",
            " 0   datetime    10886 non-null  object \n",
            " 1   season      10886 non-null  int64  \n",
            " 2   holiday     10886 non-null  int64  \n",
            " 3   workingday  10886 non-null  int64  \n",
            " 4   weather     10886 non-null  int64  \n",
            " 5   temp        10886 non-null  float64\n",
            " 6   atemp       10886 non-null  float64\n",
            " 7   humidity    10886 non-null  int64  \n",
            " 8   windspeed   10886 non-null  float64\n",
            " 9   casual      10886 non-null  int64  \n",
            " 10  registered  10886 non-null  int64  \n",
            " 11  count       10886 non-null  int64  \n",
            "dtypes: float64(3), int64(8), object(1)\n",
            "memory usage: 1020.7+ KB\n"
          ]
        }
      ],
      "source": [
        "df.info()"
      ]
    },
    {
      "cell_type": "code",
      "source": [
        "# Checking for null values -\n",
        "(df.isna().sum() / len(df)) * 100"
      ],
      "metadata": {
        "id": "VjYPY00pa-bM",
        "outputId": "e77039b0-f11d-453f-fff7-c177e0de68a5",
        "colab": {
          "base_uri": "https://localhost:8080/"
        }
      },
      "id": "VjYPY00pa-bM",
      "execution_count": null,
      "outputs": [
        {
          "output_type": "execute_result",
          "data": {
            "text/plain": [
              "datetime      0.0\n",
              "season        0.0\n",
              "holiday       0.0\n",
              "workingday    0.0\n",
              "weather       0.0\n",
              "temp          0.0\n",
              "atemp         0.0\n",
              "humidity      0.0\n",
              "windspeed     0.0\n",
              "casual        0.0\n",
              "registered    0.0\n",
              "count         0.0\n",
              "dtype: float64"
            ]
          },
          "metadata": {},
          "execution_count": 59
        }
      ]
    },
    {
      "cell_type": "code",
      "source": [
        "# Checking for duplicate rows -\n",
        "dup_rows = df[df.duplicated()]\n",
        "print(\"No. of duplicate rows: \", dup_rows.shape[0])"
      ],
      "metadata": {
        "colab": {
          "base_uri": "https://localhost:8080/"
        },
        "id": "KryzxlCrf_2S",
        "outputId": "cae388c5-ca07-4b2a-ff72-df1387e60d75"
      },
      "id": "KryzxlCrf_2S",
      "execution_count": null,
      "outputs": [
        {
          "output_type": "stream",
          "name": "stdout",
          "text": [
            "No. of duplicate rows:  0\n"
          ]
        }
      ]
    },
    {
      "cell_type": "code",
      "execution_count": null,
      "id": "02a74ed3",
      "metadata": {
        "id": "02a74ed3"
      },
      "outputs": [],
      "source": [
        "def dist_check(df, col_name):\n",
        "  print(\"Unique values : \", df[col_name].unique())\n",
        "  print(\"Value counts : \")\n",
        "  print(df[col_name].value_counts())"
      ]
    },
    {
      "cell_type": "code",
      "source": [
        "col_list = ['workingday',\t'holiday',\t'weather', 'season']\n",
        "for col in col_list:\n",
        "  print(col, \" -\")\n",
        "  dist_check(df, col)\n",
        "  print(\"\\n\")"
      ],
      "metadata": {
        "id": "FwUHmL1MVYr_",
        "outputId": "af1904c6-a96d-4962-978e-402772f13cca",
        "colab": {
          "base_uri": "https://localhost:8080/"
        }
      },
      "id": "FwUHmL1MVYr_",
      "execution_count": null,
      "outputs": [
        {
          "output_type": "stream",
          "name": "stdout",
          "text": [
            "workingday  -\n",
            "Unique values :  [0 1]\n",
            "Value counts : \n",
            "1    7412\n",
            "0    3474\n",
            "Name: workingday, dtype: int64\n",
            "\n",
            "\n",
            "holiday  -\n",
            "Unique values :  [0 1]\n",
            "Value counts : \n",
            "0    10575\n",
            "1      311\n",
            "Name: holiday, dtype: int64\n",
            "\n",
            "\n",
            "weather  -\n",
            "Unique values :  [1 2 3 4]\n",
            "Value counts : \n",
            "1    7192\n",
            "2    2834\n",
            "3     859\n",
            "4       1\n",
            "Name: weather, dtype: int64\n",
            "\n",
            "\n",
            "season  -\n",
            "Unique values :  [1 2 3 4]\n",
            "Value counts : \n",
            "4    2734\n",
            "2    2733\n",
            "3    2733\n",
            "1    2686\n",
            "Name: season, dtype: int64\n",
            "\n",
            "\n"
          ]
        }
      ]
    },
    {
      "cell_type": "code",
      "source": [
        "# Correlation Heatmap -\n",
        "\n",
        "plt.figure(figsize=(12, 7))\n",
        "sbn.heatmap(df.corr(method='spearman'),\n",
        "            annot=True, cmap='viridis')\n",
        "plt.show()\n",
        "#HW - understand basic usecase of spearman and pearson"
      ],
      "metadata": {
        "colab": {
          "base_uri": "https://localhost:8080/",
          "height": 684
        },
        "id": "pHW6XwotxmlK",
        "outputId": "fe0d7aed-6fd1-43ae-c915-8d290ab9991a"
      },
      "id": "pHW6XwotxmlK",
      "execution_count": null,
      "outputs": [
        {
          "output_type": "display_data",
          "data": {
            "text/plain": [
              "<Figure size 1200x700 with 2 Axes>"
            ],
            "image/png": "[encoded data removed]"
          },
          "metadata": {}
        }
      ]
    },
    {
      "cell_type": "markdown",
      "source": [
        "from the correlation we can verify some logical points:\n",
        "- feeling temperature or aparent temprature and temp are highly correlated, because they are most of the times approximately the same have a very small diffrerence\n",
        "- count, causal, registered are all correlated to each other because all of them are linked as per: causal + registered = count"
      ],
      "metadata": {
        "id": "x7bWGa8kxS60"
      },
      "id": "x7bWGa8kxS60"
    },
    {
      "cell_type": "code",
      "source": [
        "# Dropping highly correlated columns -\n",
        "dfn = df.drop(columns=['casual', 'registered', 'atemp'])"
      ],
      "metadata": {
        "id": "7dNduYEbxpd0"
      },
      "id": "7dNduYEbxpd0",
      "execution_count": null,
      "outputs": []
    },
    {
      "cell_type": "code",
      "source": [
        "# Outlier Detection using Boxplots -\n",
        "\n",
        "sbn.set(style=\"whitegrid\")\n",
        "fig = plt.figure(figsize=(8, 25))\n",
        "fig.subplots_adjust(right=1.5)\n",
        "\n",
        "for plot in range(1, len(col_list)+1):\n",
        "    plt.subplot(5, 2, plot)\n",
        "    sbn.boxplot(x=dfn[col_list[plot-1]], y=dfn['count'])\n",
        "\n",
        "plt.show()"
      ],
      "metadata": {
        "colab": {
          "base_uri": "https://localhost:8080/",
          "height": 792
        },
        "id": "8m6UUHFcuZni",
        "outputId": "33183545-269b-4fc8-9363-34bf281a6aa9"
      },
      "id": "8m6UUHFcuZni",
      "execution_count": null,
      "outputs": [
        {
          "output_type": "display_data",
          "data": {
            "text/plain": [
              "<Figure size 800x2500 with 4 Axes>"
            ],
            "image/png": "[encoded data removed]"
          },
          "metadata": {}
        }
      ]
    },
    {
      "cell_type": "code",
      "source": [
        "# Checking distribution of 'count' column -\n",
        "plt.figure(figsize=(14, 5))\n",
        "\n",
        "#Histogram\n",
        "plt.subplot(1, 2, 1)\n",
        "sbn.distplot(dfn['count'], bins=10)\n",
        "\n",
        "#Boxplot\n",
        "plt.subplot(1, 2, 2)\n",
        "sbn.boxplot(y=dfn['count'])\n",
        "plt.title('Boxplot')\n",
        "\n",
        "plt.show()"
      ],
      "metadata": {
        "colab": {
          "base_uri": "https://localhost:8080/",
          "height": 481
        },
        "id": "W2wh_RI_yUZa",
        "outputId": "efec46c3-fda4-45e7-9109-6f7b59f50079"
      },
      "id": "W2wh_RI_yUZa",
      "execution_count": null,
      "outputs": [
        {
          "output_type": "display_data",
          "data": {
            "text/plain": [
              "<Figure size 1400x500 with 2 Axes>"
            ],
            "image/png": "[encoded data removed]"
          },
          "metadata": {}
        }
      ]
    },
    {
      "cell_type": "markdown",
      "source": [
        "We can see that outliers are present in the given columns. We need to figure out a way to deal with them before starting with the tests."
      ],
      "metadata": {
        "id": "wQO3FK6frbSk"
      },
      "id": "wQO3FK6frbSk"
    },
    {
      "cell_type": "markdown",
      "source": [
        "We have multiple options available on how to proceed with these outlier values.\n",
        "\n",
        "1. Try to understand if these values make any sense according to the business problem. If yes, then we can keep them as it is.\n",
        "2. In case these outliers are some invalid values which do not make much sense, we can remove them using the IQR.\n",
        "3. Or we can apply a log transformation on the data to reduce the effect of these outliers."
      ],
      "metadata": {
        "id": "kjAUen1e0ajV"
      },
      "id": "kjAUen1e0ajV"
    },
    {
      "cell_type": "markdown",
      "source": [
        "1. -\n",
        "* The outliers in the given data set are the no. of bike rides per session/day. These values could sometimes be higher than expected due to increase in the crowd on certain days/occasions.\n",
        "* These data values are important for capturing variations in the data. Hence, in this case, the ideal approach of dealing with outliers would be to leave them as it is.\n",
        "* But since the tests that we are going to apply are based on the assumption that the dataset is normal or near normal, we will drop those outlier values using the IQR method."
      ],
      "metadata": {
        "id": "MBIoDwNFnCEi"
      },
      "id": "MBIoDwNFnCEi"
    },
    {
      "cell_type": "code",
      "source": [
        "# 2.\n",
        "# Checking distribution after applying log transformation -\n",
        "plt.figure(figsize=(14, 5))\n",
        "\n",
        "#Histogram\n",
        "plt.subplot(1, 2, 1)\n",
        "sbn.distplot(np.log(dfn['count']), bins=10)\n",
        "\n",
        "#Boxplot\n",
        "plt.subplot(1, 2, 2)\n",
        "sbn.boxplot(y=np.log(dfn['count']))\n",
        "plt.title('Boxplot')\n",
        "\n",
        "plt.show()"
      ],
      "metadata": {
        "colab": {
          "base_uri": "https://localhost:8080/",
          "height": 488
        },
        "id": "lHlgzgDT19zM",
        "outputId": "d9075d82-d198-46f6-d5eb-5df14da4491c"
      },
      "id": "lHlgzgDT19zM",
      "execution_count": null,
      "outputs": [
        {
          "output_type": "display_data",
          "data": {
            "text/plain": [
              "<Figure size 1400x500 with 2 Axes>"
            ],
            "image/png": "[encoded data removed]"
          },
          "metadata": {}
        }
      ]
    },
    {
      "cell_type": "code",
      "execution_count": null,
      "id": "c7c19d8e",
      "metadata": {
        "id": "c7c19d8e"
      },
      "outputs": [],
      "source": [
        "# # 3.\n",
        "# # Outlier Treatment using IQR (not needed but, we can do it) -\n",
        "\n",
        "# q1 = dfn['count'].quantile(0.25)\n",
        "# q3 = dfn['count'].quantile(0.75)\n",
        "# iqr = q3-q1\n",
        "\n",
        "# dfn = dfn[(dfn['count']>(q1-1.5*iqr) ) & (dfn['count']<(q3+1.5*iqr))]\n",
        "\n",
        "# print(\"No. of rows : \", dfn.shape[0])"
      ]
    },
    {
      "cell_type": "markdown",
      "source": [
        "#### Aggregating the total no. of bike rides based on the given factors -"
      ],
      "metadata": {
        "id": "axA5s7YUYTDR"
      },
      "id": "axA5s7YUYTDR"
    },
    {
      "cell_type": "code",
      "source": [
        "# 1. Workingday -\n",
        "pd.DataFrame(dfn.groupby('workingday')['count'].describe())"
      ],
      "metadata": {
        "colab": {
          "base_uri": "https://localhost:8080/",
          "height": 143
        },
        "id": "olrYnZaFYTta",
        "outputId": "263338be-10a6-4206-ebc3-8e5c99e1429d"
      },
      "id": "olrYnZaFYTta",
      "execution_count": null,
      "outputs": [
        {
          "output_type": "execute_result",
          "data": {
            "text/plain": [
              "             count        mean         std  min   25%    50%    75%    max\n",
              "workingday                                                                \n",
              "0           3474.0  188.506621  173.724015  1.0  44.0  128.0  304.0  783.0\n",
              "1           7412.0  193.011873  184.513659  1.0  41.0  151.0  277.0  977.0"
            ],
            "text/html": [
              "\n",
              "  <div id=\"df-3c456cbe-e10b-40c2-86b9-582b4f04e315\" class=\"colab-df-container\">\n",
              "    <div>\n",
              "<style scoped>\n",
              "    .dataframe tbody tr th:only-of-type {\n",
              "        vertical-align: middle;\n",
              "    }\n",
              "\n",
              "    .dataframe tbody tr th {\n",
              "        vertical-align: top;\n",
              "    }\n",
              "\n",
              "    .dataframe thead th {\n",
              "        text-align: right;\n",
              "    }\n",
              "</style>\n",
              "<table border=\"1\" class=\"dataframe\">\n",
              "  <thead>\n",
              "    <tr style=\"text-align: right;\">\n",
              "      <th></th>\n",
              "      <th>count</th>\n",
              "      <th>mean</th>\n",
              "      <th>std</th>\n",
              "      <th>min</th>\n",
              "      <th>25%</th>\n",
              "      <th>50%</th>\n",
              "      <th>75%</th>\n",
              "      <th>max</th>\n",
              "    </tr>\n",
              "    <tr>\n",
              "      <th>workingday</th>\n",
              "      <th></th>\n",
              "      <th></th>\n",
              "      <th></th>\n",
              "      <th></th>\n",
              "      <th></th>\n",
              "      <th></th>\n",
              "      <th></th>\n",
              "      <th></th>\n",
              "    </tr>\n",
              "  </thead>\n",
              "  <tbody>\n",
              "    <tr>\n",
              "      <th>0</th>\n",
              "      <td>3474.0</td>\n",
              "      <td>188.506621</td>\n",
              "      <td>173.724015</td>\n",
              "      <td>1.0</td>\n",
              "      <td>44.0</td>\n",
              "      <td>128.0</td>\n",
              "      <td>304.0</td>\n",
              "      <td>783.0</td>\n",
              "    </tr>\n",
              "    <tr>\n",
              "      <th>1</th>\n",
              "      <td>7412.0</td>\n",
              "      <td>193.011873</td>\n",
              "      <td>184.513659</td>\n",
              "      <td>1.0</td>\n",
              "      <td>41.0</td>\n",
              "      <td>151.0</td>\n",
              "      <td>277.0</td>\n",
              "      <td>977.0</td>\n",
              "    </tr>\n",
              "  </tbody>\n",
              "</table>\n",
              "</div>\n",
              "    <div class=\"colab-df-buttons\">\n",
              "\n",
              "  <div class=\"colab-df-container\">\n",
              "    <button class=\"colab-df-convert\" onclick=\"convertToInteractive('df-3c456cbe-e10b-40c2-86b9-582b4f04e315')\"\n",
              "            title=\"Convert this dataframe to an interactive table.\"\n",
              "            style=\"display:none;\">\n",
              "\n",
              "  <svg xmlns=\"http://www.w3.org/2000/svg\" height=\"24px\" viewBox=\"0 -960 960 960\">\n",
              "    <path d=\"M120-120v-720h720v720H120Zm60-500h600v-160H180v160Zm220 220h160v-160H400v160Zm0 220h160v-160H400v160ZM180-400h160v-160H180v160Zm440 0h160v-160H620v160ZM180-180h160v-160H180v160Zm440 0h160v-160H620v160Z\"/>\n",
              "  </svg>\n",
              "    </button>\n",
              "\n",
              "  <style>\n",
              "    .colab-df-container {\n",
              "      display:flex;\n",
              "      gap: 12px;\n",
              "    }\n",
              "\n",
              "    .colab-df-convert {\n",
              "      background-color: #E8F0FE;\n",
              "      border: none;\n",
              "      border-radius: 50%;\n",
              "      cursor: pointer;\n",
              "      display: none;\n",
              "      fill: #1967D2;\n",
              "      height: 32px;\n",
              "      padding: 0 0 0 0;\n",
              "      width: 32px;\n",
              "    }\n",
              "\n",
              "    .colab-df-convert:hover {\n",
              "      background-color: #E2EBFA;\n",
              "      box-shadow: 0px 1px 2px rgba(60, 64, 67, 0.3), 0px 1px 3px 1px rgba(60, 64, 67, 0.15);\n",
              "      fill: #174EA6;\n",
              "    }\n",
              "\n",
              "    .colab-df-buttons div {\n",
              "      margin-bottom: 4px;\n",
              "    }\n",
              "\n",
              "    [theme=dark] .colab-df-convert {\n",
              "      background-color: #3B4455;\n",
              "      fill: #D2E3FC;\n",
              "    }\n",
              "\n",
              "    [theme=dark] .colab-df-convert:hover {\n",
              "      background-color: #434B5C;\n",
              "      box-shadow: 0px 1px 3px 1px rgba(0, 0, 0, 0.15);\n",
              "      filter: drop-shadow(0px 1px 2px rgba(0, 0, 0, 0.3));\n",
              "      fill: #FFFFFF;\n",
              "    }\n",
              "  </style>\n",
              "\n",
              "    <script>\n",
              "      const buttonEl =\n",
              "        document.querySelector('#df-3c456cbe-e10b-40c2-86b9-582b4f04e315 button.colab-df-convert');\n",
              "      buttonEl.style.display =\n",
              "        google.colab.kernel.accessAllowed ? 'block' : 'none';\n",
              "\n",
              "      async function convertToInteractive(key) {\n",
              "        const element = document.querySelector('#df-3c456cbe-e10b-40c2-86b9-582b4f04e315');\n",
              "        const dataTable =\n",
              "          await google.colab.kernel.invokeFunction('convertToInteractive',\n",
              "                                                    [key], {});\n",
              "        if (!dataTable) return;\n",
              "\n",
              "        const docLinkHtml = 'Like what you see? Visit the ' +\n",
              "          '<a target=\"_blank\" href=https://colab.research.google.com/notebooks/data_table.ipynb>data table notebook</a>'\n",
              "          + ' to learn more about interactive tables.';\n",
              "        element.innerHTML = '';\n",
              "        dataTable['output_type'] = 'display_data';\n",
              "        await google.colab.output.renderOutput(dataTable, element);\n",
              "        const docLink = document.createElement('div');\n",
              "        docLink.innerHTML = docLinkHtml;\n",
              "        element.appendChild(docLink);\n",
              "      }\n",
              "    </script>\n",
              "  </div>\n",
              "\n",
              "\n",
              "<div id=\"df-2d17dddb-bf08-43b8-9b1b-a1d7c04b180e\">\n",
              "  <button class=\"colab-df-quickchart\" onclick=\"quickchart('df-2d17dddb-bf08-43b8-9b1b-a1d7c04b180e')\"\n",
              "            title=\"Suggest charts\"\n",
              "            style=\"display:none;\">\n",
              "\n",
              "<svg xmlns=\"http://www.w3.org/2000/svg\" height=\"24px\"viewBox=\"0 0 24 24\"\n",
              "     width=\"24px\">\n",
              "    <g>\n",
              "        <path d=\"M19 3H5c-1.1 0-2 .9-2 2v14c0 1.1.9 2 2 2h14c1.1 0 2-.9 2-2V5c0-1.1-.9-2-2-2zM9 17H7v-7h2v7zm4 0h-2V7h2v10zm4 0h-2v-4h2v4z\"/>\n",
              "    </g>\n",
              "</svg>\n",
              "  </button>\n",
              "\n",
              "<style>\n",
              "  .colab-df-quickchart {\n",
              "      --bg-color: #E8F0FE;\n",
              "      --fill-color: #1967D2;\n",
              "      --hover-bg-color: #E2EBFA;\n",
              "      --hover-fill-color: #174EA6;\n",
              "      --disabled-fill-color: #AAA;\n",
              "      --disabled-bg-color: #DDD;\n",
              "  }\n",
              "\n",
              "  [theme=dark] .colab-df-quickchart {\n",
              "      --bg-color: #3B4455;\n",
              "      --fill-color: #D2E3FC;\n",
              "      --hover-bg-color: #434B5C;\n",
              "      --hover-fill-color: #FFFFFF;\n",
              "      --disabled-bg-color: #3B4455;\n",
              "      --disabled-fill-color: #666;\n",
              "  }\n",
              "\n",
              "  .colab-df-quickchart {\n",
              "    background-color: var(--bg-color);\n",
              "    border: none;\n",
              "    border-radius: 50%;\n",
              "    cursor: pointer;\n",
              "    display: none;\n",
              "    fill: var(--fill-color);\n",
              "    height: 32px;\n",
              "    padding: 0;\n",
              "    width: 32px;\n",
              "  }\n",
              "\n",
              "  .colab-df-quickchart:hover {\n",
              "    background-color: var(--hover-bg-color);\n",
              "    box-shadow: 0 1px 2px rgba(60, 64, 67, 0.3), 0 1px 3px 1px rgba(60, 64, 67, 0.15);\n",
              "    fill: var(--button-hover-fill-color);\n",
              "  }\n",
              "\n",
              "  .colab-df-quickchart-complete:disabled,\n",
              "  .colab-df-quickchart-complete:disabled:hover {\n",
              "    background-color: var(--disabled-bg-color);\n",
              "    fill: var(--disabled-fill-color);\n",
              "    box-shadow: none;\n",
              "  }\n",
              "\n",
              "  .colab-df-spinner {\n",
              "    border: 2px solid var(--fill-color);\n",
              "    border-color: transparent;\n",
              "    border-bottom-color: var(--fill-color);\n",
              "    animation:\n",
              "      spin 1s steps(1) infinite;\n",
              "  }\n",
              "\n",
              "  @keyframes spin {\n",
              "    0% {\n",
              "      border-color: transparent;\n",
              "      border-bottom-color: var(--fill-color);\n",
              "      border-left-color: var(--fill-color);\n",
              "    }\n",
              "    20% {\n",
              "      border-color: transparent;\n",
              "      border-left-color: var(--fill-color);\n",
              "      border-top-color: var(--fill-color);\n",
              "    }\n",
              "    30% {\n",
              "      border-color: transparent;\n",
              "      border-left-color: var(--fill-color);\n",
              "      border-top-color: var(--fill-color);\n",
              "      border-right-color: var(--fill-color);\n",
              "    }\n",
              "    40% {\n",
              "      border-color: transparent;\n",
              "      border-right-color: var(--fill-color);\n",
              "      border-top-color: var(--fill-color);\n",
              "    }\n",
              "    60% {\n",
              "      border-color: transparent;\n",
              "      border-right-color: var(--fill-color);\n",
              "    }\n",
              "    80% {\n",
              "      border-color: transparent;\n",
              "      border-right-color: var(--fill-color);\n",
              "      border-bottom-color: var(--fill-color);\n",
              "    }\n",
              "    90% {\n",
              "      border-color: transparent;\n",
              "      border-bottom-color: var(--fill-color);\n",
              "    }\n",
              "  }\n",
              "</style>\n",
              "\n",
              "  <script>\n",
              "    async function quickchart(key) {\n",
              "      const quickchartButtonEl =\n",
              "        document.querySelector('#' + key + ' button');\n",
              "      quickchartButtonEl.disabled = true;  // To prevent multiple clicks.\n",
              "      quickchartButtonEl.classList.add('colab-df-spinner');\n",
              "      try {\n",
              "        const charts = await google.colab.kernel.invokeFunction(\n",
              "            'suggestCharts', [key], {});\n",
              "      } catch (error) {\n",
              "        console.error('Error during call to suggestCharts:', error);\n",
              "      }\n",
              "      quickchartButtonEl.classList.remove('colab-df-spinner');\n",
              "      quickchartButtonEl.classList.add('colab-df-quickchart-complete');\n",
              "    }\n",
              "    (() => {\n",
              "      let quickchartButtonEl =\n",
              "        document.querySelector('#df-2d17dddb-bf08-43b8-9b1b-a1d7c04b180e button');\n",
              "      quickchartButtonEl.style.display =\n",
              "        google.colab.kernel.accessAllowed ? 'block' : 'none';\n",
              "    })();\n",
              "  </script>\n",
              "</div>\n",
              "    </div>\n",
              "  </div>\n"
            ],
            "application/vnd.google.colaboratory.intrinsic+json": {
              "type": "dataframe",
              "summary": "{\n  \"name\": \"pd\",\n  \"rows\": 2,\n  \"fields\": [\n    {\n      \"column\": \"count\",\n      \"properties\": {\n        \"dtype\": \"number\",\n        \"std\": 2784.586504312624,\n        \"min\": 3474.0,\n        \"max\": 7412.0,\n        \"num_unique_values\": 2,\n        \"samples\": [\n          7412.0,\n          3474.0\n        ],\n        \"semantic_type\": \"\",\n        \"description\": \"\"\n      }\n    },\n    {\n      \"column\": \"mean\",\n      \"properties\": {\n        \"dtype\": \"number\",\n        \"std\": 3.1856942604597354,\n        \"min\": 188.50662061024755,\n        \"max\": 193.01187263896384,\n        \"num_unique_values\": 2,\n        \"samples\": [\n          193.01187263896384,\n          188.50662061024755\n        ],\n        \"semantic_type\": \"\",\n        \"description\": \"\"\n      }\n    },\n    {\n      \"column\": \"std\",\n      \"properties\": {\n        \"dtype\": \"number\",\n        \"std\": 7.629430238982044,\n        \"min\": 173.7240153250003,\n        \"max\": 184.5136590421481,\n        \"num_unique_values\": 2,\n        \"samples\": [\n          184.5136590421481,\n          173.7240153250003\n        ],\n        \"semantic_type\": \"\",\n        \"description\": \"\"\n      }\n    },\n    {\n      \"column\": \"min\",\n      \"properties\": {\n        \"dtype\": \"number\",\n        \"std\": 0.0,\n        \"min\": 1.0,\n        \"max\": 1.0,\n        \"num_unique_values\": 1,\n        \"samples\": [\n          1.0\n        ],\n        \"semantic_type\": \"\",\n        \"description\": \"\"\n      }\n    },\n    {\n      \"column\": \"25%\",\n      \"properties\": {\n        \"dtype\": \"number\",\n        \"std\": 2.1213203435596424,\n        \"min\": 41.0,\n        \"max\": 44.0,\n        \"num_unique_values\": 2,\n        \"samples\": [\n          41.0\n        ],\n        \"semantic_type\": \"\",\n        \"description\": \"\"\n      }\n    },\n    {\n      \"column\": \"50%\",\n      \"properties\": {\n        \"dtype\": \"number\",\n        \"std\": 16.263455967290593,\n        \"min\": 128.0,\n        \"max\": 151.0,\n        \"num_unique_values\": 2,\n        \"samples\": [\n          151.0\n        ],\n        \"semantic_type\": \"\",\n        \"description\": \"\"\n      }\n    },\n    {\n      \"column\": \"75%\",\n      \"properties\": {\n        \"dtype\": \"number\",\n        \"std\": 19.091883092036785,\n        \"min\": 277.0,\n        \"max\": 304.0,\n        \"num_unique_values\": 2,\n        \"samples\": [\n          277.0\n        ],\n        \"semantic_type\": \"\",\n        \"description\": \"\"\n      }\n    },\n    {\n      \"column\": \"max\",\n      \"properties\": {\n        \"dtype\": \"number\",\n        \"std\": 137.17871555019022,\n        \"min\": 783.0,\n        \"max\": 977.0,\n        \"num_unique_values\": 2,\n        \"samples\": [\n          977.0\n        ],\n        \"semantic_type\": \"\",\n        \"description\": \"\"\n      }\n    }\n  ]\n}"
            }
          },
          "metadata": {},
          "execution_count": 69
        }
      ]
    },
    {
      "cell_type": "code",
      "source": [
        "# 2. Holiday -\n",
        "pd.DataFrame(dfn.groupby('holiday')['count'].describe())"
      ],
      "metadata": {
        "colab": {
          "base_uri": "https://localhost:8080/",
          "height": 143
        },
        "id": "rKVDP5PpYTyT",
        "outputId": "ed858f22-48a6-4fda-ea97-e8e065a6159c"
      },
      "id": "rKVDP5PpYTyT",
      "execution_count": null,
      "outputs": [
        {
          "output_type": "execute_result",
          "data": {
            "text/plain": [
              "           count        mean         std  min   25%    50%    75%    max\n",
              "holiday                                                                 \n",
              "0        10575.0  191.741655  181.513131  1.0  43.0  145.0  283.0  977.0\n",
              "1          311.0  185.877814  168.300531  1.0  38.5  133.0  308.0  712.0"
            ],
            "text/html": [
              "\n",
              "  <div id=\"df-03ea3eef-a11e-4c38-9f46-c1307a671c35\" class=\"colab-df-container\">\n",
              "    <div>\n",
              "<style scoped>\n",
              "    .dataframe tbody tr th:only-of-type {\n",
              "        vertical-align: middle;\n",
              "    }\n",
              "\n",
              "    .dataframe tbody tr th {\n",
              "        vertical-align: top;\n",
              "    }\n",
              "\n",
              "    .dataframe thead th {\n",
              "        text-align: right;\n",
              "    }\n",
              "</style>\n",
              "<table border=\"1\" class=\"dataframe\">\n",
              "  <thead>\n",
              "    <tr style=\"text-align: right;\">\n",
              "      <th></th>\n",
              "      <th>count</th>\n",
              "      <th>mean</th>\n",
              "      <th>std</th>\n",
              "      <th>min</th>\n",
              "      <th>25%</th>\n",
              "      <th>50%</th>\n",
              "      <th>75%</th>\n",
              "      <th>max</th>\n",
              "    </tr>\n",
              "    <tr>\n",
              "      <th>holiday</th>\n",
              "      <th></th>\n",
              "      <th></th>\n",
              "      <th></th>\n",
              "      <th></th>\n",
              "      <th></th>\n",
              "      <th></th>\n",
              "      <th></th>\n",
              "      <th></th>\n",
              "    </tr>\n",
              "  </thead>\n",
              "  <tbody>\n",
              "    <tr>\n",
              "      <th>0</th>\n",
              "      <td>10575.0</td>\n",
              "      <td>191.741655</td>\n",
              "      <td>181.513131</td>\n",
              "      <td>1.0</td>\n",
              "      <td>43.0</td>\n",
              "      <td>145.0</td>\n",
              "      <td>283.0</td>\n",
              "      <td>977.0</td>\n",
              "    </tr>\n",
              "    <tr>\n",
              "      <th>1</th>\n",
              "      <td>311.0</td>\n",
              "      <td>185.877814</td>\n",
              "      <td>168.300531</td>\n",
              "      <td>1.0</td>\n",
              "      <td>38.5</td>\n",
              "      <td>133.0</td>\n",
              "      <td>308.0</td>\n",
              "      <td>712.0</td>\n",
              "    </tr>\n",
              "  </tbody>\n",
              "</table>\n",
              "</div>\n",
              "    <div class=\"colab-df-buttons\">\n",
              "\n",
              "  <div class=\"colab-df-container\">\n",
              "    <button class=\"colab-df-convert\" onclick=\"convertToInteractive('df-03ea3eef-a11e-4c38-9f46-c1307a671c35')\"\n",
              "            title=\"Convert this dataframe to an interactive table.\"\n",
              "            style=\"display:none;\">\n",
              "\n",
              "  <svg xmlns=\"http://www.w3.org/2000/svg\" height=\"24px\" viewBox=\"0 -960 960 960\">\n",
              "    <path d=\"M120-120v-720h720v720H120Zm60-500h600v-160H180v160Zm220 220h160v-160H400v160Zm0 220h160v-160H400v160ZM180-400h160v-160H180v160Zm440 0h160v-160H620v160ZM180-180h160v-160H180v160Zm440 0h160v-160H620v160Z\"/>\n",
              "  </svg>\n",
              "    </button>\n",
              "\n",
              "  <style>\n",
              "    .colab-df-container {\n",
              "      display:flex;\n",
              "      gap: 12px;\n",
              "    }\n",
              "\n",
              "    .colab-df-convert {\n",
              "      background-color: #E8F0FE;\n",
              "      border: none;\n",
              "      border-radius: 50%;\n",
              "      cursor: pointer;\n",
              "      display: none;\n",
              "      fill: #1967D2;\n",
              "      height: 32px;\n",
              "      padding: 0 0 0 0;\n",
              "      width: 32px;\n",
              "    }\n",
              "\n",
              "    .colab-df-convert:hover {\n",
              "      background-color: #E2EBFA;\n",
              "      box-shadow: 0px 1px 2px rgba(60, 64, 67, 0.3), 0px 1px 3px 1px rgba(60, 64, 67, 0.15);\n",
              "      fill: #174EA6;\n",
              "    }\n",
              "\n",
              "    .colab-df-buttons div {\n",
              "      margin-bottom: 4px;\n",
              "    }\n",
              "\n",
              "    [theme=dark] .colab-df-convert {\n",
              "      background-color: #3B4455;\n",
              "      fill: #D2E3FC;\n",
              "    }\n",
              "\n",
              "    [theme=dark] .colab-df-convert:hover {\n",
              "      background-color: #434B5C;\n",
              "      box-shadow: 0px 1px 3px 1px rgba(0, 0, 0, 0.15);\n",
              "      filter: drop-shadow(0px 1px 2px rgba(0, 0, 0, 0.3));\n",
              "      fill: #FFFFFF;\n",
              "    }\n",
              "  </style>\n",
              "\n",
              "    <script>\n",
              "      const buttonEl =\n",
              "        document.querySelector('#df-03ea3eef-a11e-4c38-9f46-c1307a671c35 button.colab-df-convert');\n",
              "      buttonEl.style.display =\n",
              "        google.colab.kernel.accessAllowed ? 'block' : 'none';\n",
              "\n",
              "      async function convertToInteractive(key) {\n",
              "        const element = document.querySelector('#df-03ea3eef-a11e-4c38-9f46-c1307a671c35');\n",
              "        const dataTable =\n",
              "          await google.colab.kernel.invokeFunction('convertToInteractive',\n",
              "                                                    [key], {});\n",
              "        if (!dataTable) return;\n",
              "\n",
              "        const docLinkHtml = 'Like what you see? Visit the ' +\n",
              "          '<a target=\"_blank\" href=https://colab.research.google.com/notebooks/data_table.ipynb>data table notebook</a>'\n",
              "          + ' to learn more about interactive tables.';\n",
              "        element.innerHTML = '';\n",
              "        dataTable['output_type'] = 'display_data';\n",
              "        await google.colab.output.renderOutput(dataTable, element);\n",
              "        const docLink = document.createElement('div');\n",
              "        docLink.innerHTML = docLinkHtml;\n",
              "        element.appendChild(docLink);\n",
              "      }\n",
              "    </script>\n",
              "  </div>\n",
              "\n",
              "\n",
              "<div id=\"df-ee2e3811-2b8a-4d30-98db-24b1976225ab\">\n",
              "  <button class=\"colab-df-quickchart\" onclick=\"quickchart('df-ee2e3811-2b8a-4d30-98db-24b1976225ab')\"\n",
              "            title=\"Suggest charts\"\n",
              "            style=\"display:none;\">\n",
              "\n",
              "<svg xmlns=\"http://www.w3.org/2000/svg\" height=\"24px\"viewBox=\"0 0 24 24\"\n",
              "     width=\"24px\">\n",
              "    <g>\n",
              "        <path d=\"M19 3H5c-1.1 0-2 .9-2 2v14c0 1.1.9 2 2 2h14c1.1 0 2-.9 2-2V5c0-1.1-.9-2-2-2zM9 17H7v-7h2v7zm4 0h-2V7h2v10zm4 0h-2v-4h2v4z\"/>\n",
              "    </g>\n",
              "</svg>\n",
              "  </button>\n",
              "\n",
              "<style>\n",
              "  .colab-df-quickchart {\n",
              "      --bg-color: #E8F0FE;\n",
              "      --fill-color: #1967D2;\n",
              "      --hover-bg-color: #E2EBFA;\n",
              "      --hover-fill-color: #174EA6;\n",
              "      --disabled-fill-color: #AAA;\n",
              "      --disabled-bg-color: #DDD;\n",
              "  }\n",
              "\n",
              "  [theme=dark] .colab-df-quickchart {\n",
              "      --bg-color: #3B4455;\n",
              "      --fill-color: #D2E3FC;\n",
              "      --hover-bg-color: #434B5C;\n",
              "      --hover-fill-color: #FFFFFF;\n",
              "      --disabled-bg-color: #3B4455;\n",
              "      --disabled-fill-color: #666;\n",
              "  }\n",
              "\n",
              "  .colab-df-quickchart {\n",
              "    background-color: var(--bg-color);\n",
              "    border: none;\n",
              "    border-radius: 50%;\n",
              "    cursor: pointer;\n",
              "    display: none;\n",
              "    fill: var(--fill-color);\n",
              "    height: 32px;\n",
              "    padding: 0;\n",
              "    width: 32px;\n",
              "  }\n",
              "\n",
              "  .colab-df-quickchart:hover {\n",
              "    background-color: var(--hover-bg-color);\n",
              "    box-shadow: 0 1px 2px rgba(60, 64, 67, 0.3), 0 1px 3px 1px rgba(60, 64, 67, 0.15);\n",
              "    fill: var(--button-hover-fill-color);\n",
              "  }\n",
              "\n",
              "  .colab-df-quickchart-complete:disabled,\n",
              "  .colab-df-quickchart-complete:disabled:hover {\n",
              "    background-color: var(--disabled-bg-color);\n",
              "    fill: var(--disabled-fill-color);\n",
              "    box-shadow: none;\n",
              "  }\n",
              "\n",
              "  .colab-df-spinner {\n",
              "    border: 2px solid var(--fill-color);\n",
              "    border-color: transparent;\n",
              "    border-bottom-color: var(--fill-color);\n",
              "    animation:\n",
              "      spin 1s steps(1) infinite;\n",
              "  }\n",
              "\n",
              "  @keyframes spin {\n",
              "    0% {\n",
              "      border-color: transparent;\n",
              "      border-bottom-color: var(--fill-color);\n",
              "      border-left-color: var(--fill-color);\n",
              "    }\n",
              "    20% {\n",
              "      border-color: transparent;\n",
              "      border-left-color: var(--fill-color);\n",
              "      border-top-color: var(--fill-color);\n",
              "    }\n",
              "    30% {\n",
              "      border-color: transparent;\n",
              "      border-left-color: var(--fill-color);\n",
              "      border-top-color: var(--fill-color);\n",
              "      border-right-color: var(--fill-color);\n",
              "    }\n",
              "    40% {\n",
              "      border-color: transparent;\n",
              "      border-right-color: var(--fill-color);\n",
              "      border-top-color: var(--fill-color);\n",
              "    }\n",
              "    60% {\n",
              "      border-color: transparent;\n",
              "      border-right-color: var(--fill-color);\n",
              "    }\n",
              "    80% {\n",
              "      border-color: transparent;\n",
              "      border-right-color: var(--fill-color);\n",
              "      border-bottom-color: var(--fill-color);\n",
              "    }\n",
              "    90% {\n",
              "      border-color: transparent;\n",
              "      border-bottom-color: var(--fill-color);\n",
              "    }\n",
              "  }\n",
              "</style>\n",
              "\n",
              "  <script>\n",
              "    async function quickchart(key) {\n",
              "      const quickchartButtonEl =\n",
              "        document.querySelector('#' + key + ' button');\n",
              "      quickchartButtonEl.disabled = true;  // To prevent multiple clicks.\n",
              "      quickchartButtonEl.classList.add('colab-df-spinner');\n",
              "      try {\n",
              "        const charts = await google.colab.kernel.invokeFunction(\n",
              "            'suggestCharts', [key], {});\n",
              "      } catch (error) {\n",
              "        console.error('Error during call to suggestCharts:', error);\n",
              "      }\n",
              "      quickchartButtonEl.classList.remove('colab-df-spinner');\n",
              "      quickchartButtonEl.classList.add('colab-df-quickchart-complete');\n",
              "    }\n",
              "    (() => {\n",
              "      let quickchartButtonEl =\n",
              "        document.querySelector('#df-ee2e3811-2b8a-4d30-98db-24b1976225ab button');\n",
              "      quickchartButtonEl.style.display =\n",
              "        google.colab.kernel.accessAllowed ? 'block' : 'none';\n",
              "    })();\n",
              "  </script>\n",
              "</div>\n",
              "    </div>\n",
              "  </div>\n"
            ],
            "application/vnd.google.colaboratory.intrinsic+json": {
              "type": "dataframe",
              "summary": "{\n  \"name\": \"pd\",\n  \"rows\": 2,\n  \"fields\": [\n    {\n      \"column\": \"count\",\n      \"properties\": {\n        \"dtype\": \"number\",\n        \"std\": 7257.744002098724,\n        \"min\": 311.0,\n        \"max\": 10575.0,\n        \"num_unique_values\": 2,\n        \"samples\": [\n          311.0,\n          10575.0\n        ],\n        \"semantic_type\": \"\",\n        \"description\": \"\"\n      }\n    },\n    {\n      \"column\": \"mean\",\n      \"properties\": {\n        \"dtype\": \"number\",\n        \"std\": 4.146361976385559,\n        \"min\": 185.87781350482314,\n        \"max\": 191.7416548463357,\n        \"num_unique_values\": 2,\n        \"samples\": [\n          185.87781350482314,\n          191.7416548463357\n        ],\n        \"semantic_type\": \"\",\n        \"description\": \"\"\n      }\n    },\n    {\n      \"column\": \"std\",\n      \"properties\": {\n        \"dtype\": \"number\",\n        \"std\": 9.342718603983695,\n        \"min\": 168.30053147054628,\n        \"max\": 181.51313082973545,\n        \"num_unique_values\": 2,\n        \"samples\": [\n          168.30053147054628,\n          181.51313082973545\n        ],\n        \"semantic_type\": \"\",\n        \"description\": \"\"\n      }\n    },\n    {\n      \"column\": \"min\",\n      \"properties\": {\n        \"dtype\": \"number\",\n        \"std\": 0.0,\n        \"min\": 1.0,\n        \"max\": 1.0,\n        \"num_unique_values\": 1,\n        \"samples\": [\n          1.0\n        ],\n        \"semantic_type\": \"\",\n        \"description\": \"\"\n      }\n    },\n    {\n      \"column\": \"25%\",\n      \"properties\": {\n        \"dtype\": \"number\",\n        \"std\": 3.181980515339464,\n        \"min\": 38.5,\n        \"max\": 43.0,\n        \"num_unique_values\": 2,\n        \"samples\": [\n          38.5\n        ],\n        \"semantic_type\": \"\",\n        \"description\": \"\"\n      }\n    },\n    {\n      \"column\": \"50%\",\n      \"properties\": {\n        \"dtype\": \"number\",\n        \"std\": 8.48528137423857,\n        \"min\": 133.0,\n        \"max\": 145.0,\n        \"num_unique_values\": 2,\n        \"samples\": [\n          133.0\n        ],\n        \"semantic_type\": \"\",\n        \"description\": \"\"\n      }\n    },\n    {\n      \"column\": \"75%\",\n      \"properties\": {\n        \"dtype\": \"number\",\n        \"std\": 17.67766952966369,\n        \"min\": 283.0,\n        \"max\": 308.0,\n        \"num_unique_values\": 2,\n        \"samples\": [\n          308.0\n        ],\n        \"semantic_type\": \"\",\n        \"description\": \"\"\n      }\n    },\n    {\n      \"column\": \"max\",\n      \"properties\": {\n        \"dtype\": \"number\",\n        \"std\": 187.3832970144351,\n        \"min\": 712.0,\n        \"max\": 977.0,\n        \"num_unique_values\": 2,\n        \"samples\": [\n          712.0\n        ],\n        \"semantic_type\": \"\",\n        \"description\": \"\"\n      }\n    }\n  ]\n}"
            }
          },
          "metadata": {},
          "execution_count": 70
        }
      ]
    },
    {
      "cell_type": "code",
      "source": [
        "# 3. Season -\n",
        "pd.DataFrame(dfn.groupby('season')['count'].describe())"
      ],
      "metadata": {
        "colab": {
          "base_uri": "https://localhost:8080/",
          "height": 206
        },
        "id": "YQEK55YNYT3P",
        "outputId": "6fad34de-1c67-4da9-e785-ccbdfaaf760b"
      },
      "id": "YQEK55YNYT3P",
      "execution_count": null,
      "outputs": [
        {
          "output_type": "execute_result",
          "data": {
            "text/plain": [
              "         count        mean         std  min   25%    50%    75%    max\n",
              "season                                                                \n",
              "1       2686.0  116.343261  125.273974  1.0  24.0   78.0  164.0  801.0\n",
              "2       2733.0  215.251372  192.007843  1.0  49.0  172.0  321.0  873.0\n",
              "3       2733.0  234.417124  197.151001  1.0  68.0  195.0  347.0  977.0\n",
              "4       2734.0  198.988296  177.622409  1.0  51.0  161.0  294.0  948.0"
            ],
            "text/html": [
              "\n",
              "  <div id=\"df-a0e3e52b-700a-42e5-bf43-c39c953836d9\" class=\"colab-df-container\">\n",
              "    <div>\n",
              "<style scoped>\n",
              "    .dataframe tbody tr th:only-of-type {\n",
              "        vertical-align: middle;\n",
              "    }\n",
              "\n",
              "    .dataframe tbody tr th {\n",
              "        vertical-align: top;\n",
              "    }\n",
              "\n",
              "    .dataframe thead th {\n",
              "        text-align: right;\n",
              "    }\n",
              "</style>\n",
              "<table border=\"1\" class=\"dataframe\">\n",
              "  <thead>\n",
              "    <tr style=\"text-align: right;\">\n",
              "      <th></th>\n",
              "      <th>count</th>\n",
              "      <th>mean</th>\n",
              "      <th>std</th>\n",
              "      <th>min</th>\n",
              "      <th>25%</th>\n",
              "      <th>50%</th>\n",
              "      <th>75%</th>\n",
              "      <th>max</th>\n",
              "    </tr>\n",
              "    <tr>\n",
              "      <th>season</th>\n",
              "      <th></th>\n",
              "      <th></th>\n",
              "      <th></th>\n",
              "      <th></th>\n",
              "      <th></th>\n",
              "      <th></th>\n",
              "      <th></th>\n",
              "      <th></th>\n",
              "    </tr>\n",
              "  </thead>\n",
              "  <tbody>\n",
              "    <tr>\n",
              "      <th>1</th>\n",
              "      <td>2686.0</td>\n",
              "      <td>116.343261</td>\n",
              "      <td>125.273974</td>\n",
              "      <td>1.0</td>\n",
              "      <td>24.0</td>\n",
              "      <td>78.0</td>\n",
              "      <td>164.0</td>\n",
              "      <td>801.0</td>\n",
              "    </tr>\n",
              "    <tr>\n",
              "      <th>2</th>\n",
              "      <td>2733.0</td>\n",
              "      <td>215.251372</td>\n",
              "      <td>192.007843</td>\n",
              "      <td>1.0</td>\n",
              "      <td>49.0</td>\n",
              "      <td>172.0</td>\n",
              "      <td>321.0</td>\n",
              "      <td>873.0</td>\n",
              "    </tr>\n",
              "    <tr>\n",
              "      <th>3</th>\n",
              "      <td>2733.0</td>\n",
              "      <td>234.417124</td>\n",
              "      <td>197.151001</td>\n",
              "      <td>1.0</td>\n",
              "      <td>68.0</td>\n",
              "      <td>195.0</td>\n",
              "      <td>347.0</td>\n",
              "      <td>977.0</td>\n",
              "    </tr>\n",
              "    <tr>\n",
              "      <th>4</th>\n",
              "      <td>2734.0</td>\n",
              "      <td>198.988296</td>\n",
              "      <td>177.622409</td>\n",
              "      <td>1.0</td>\n",
              "      <td>51.0</td>\n",
              "      <td>161.0</td>\n",
              "      <td>294.0</td>\n",
              "      <td>948.0</td>\n",
              "    </tr>\n",
              "  </tbody>\n",
              "</table>\n",
              "</div>\n",
              "    <div class=\"colab-df-buttons\">\n",
              "\n",
              "  <div class=\"colab-df-container\">\n",
              "    <button class=\"colab-df-convert\" onclick=\"convertToInteractive('df-a0e3e52b-700a-42e5-bf43-c39c953836d9')\"\n",
              "            title=\"Convert this dataframe to an interactive table.\"\n",
              "            style=\"display:none;\">\n",
              "\n",
              "  <svg xmlns=\"http://www.w3.org/2000/svg\" height=\"24px\" viewBox=\"0 -960 960 960\">\n",
              "    <path d=\"M120-120v-720h720v720H120Zm60-500h600v-160H180v160Zm220 220h160v-160H400v160Zm0 220h160v-160H400v160ZM180-400h160v-160H180v160Zm440 0h160v-160H620v160ZM180-180h160v-160H180v160Zm440 0h160v-160H620v160Z\"/>\n",
              "  </svg>\n",
              "    </button>\n",
              "\n",
              "  <style>\n",
              "    .colab-df-container {\n",
              "      display:flex;\n",
              "      gap: 12px;\n",
              "    }\n",
              "\n",
              "    .colab-df-convert {\n",
              "      background-color: #E8F0FE;\n",
              "      border: none;\n",
              "      border-radius: 50%;\n",
              "      cursor: pointer;\n",
              "      display: none;\n",
              "      fill: #1967D2;\n",
              "      height: 32px;\n",
              "      padding: 0 0 0 0;\n",
              "      width: 32px;\n",
              "    }\n",
              "\n",
              "    .colab-df-convert:hover {\n",
              "      background-color: #E2EBFA;\n",
              "      box-shadow: 0px 1px 2px rgba(60, 64, 67, 0.3), 0px 1px 3px 1px rgba(60, 64, 67, 0.15);\n",
              "      fill: #174EA6;\n",
              "    }\n",
              "\n",
              "    .colab-df-buttons div {\n",
              "      margin-bottom: 4px;\n",
              "    }\n",
              "\n",
              "    [theme=dark] .colab-df-convert {\n",
              "      background-color: #3B4455;\n",
              "      fill: #D2E3FC;\n",
              "    }\n",
              "\n",
              "    [theme=dark] .colab-df-convert:hover {\n",
              "      background-color: #434B5C;\n",
              "      box-shadow: 0px 1px 3px 1px rgba(0, 0, 0, 0.15);\n",
              "      filter: drop-shadow(0px 1px 2px rgba(0, 0, 0, 0.3));\n",
              "      fill: #FFFFFF;\n",
              "    }\n",
              "  </style>\n",
              "\n",
              "    <script>\n",
              "      const buttonEl =\n",
              "        document.querySelector('#df-a0e3e52b-700a-42e5-bf43-c39c953836d9 button.colab-df-convert');\n",
              "      buttonEl.style.display =\n",
              "        google.colab.kernel.accessAllowed ? 'block' : 'none';\n",
              "\n",
              "      async function convertToInteractive(key) {\n",
              "        const element = document.querySelector('#df-a0e3e52b-700a-42e5-bf43-c39c953836d9');\n",
              "        const dataTable =\n",
              "          await google.colab.kernel.invokeFunction('convertToInteractive',\n",
              "                                                    [key], {});\n",
              "        if (!dataTable) return;\n",
              "\n",
              "        const docLinkHtml = 'Like what you see? Visit the ' +\n",
              "          '<a target=\"_blank\" href=https://colab.research.google.com/notebooks/data_table.ipynb>data table notebook</a>'\n",
              "          + ' to learn more about interactive tables.';\n",
              "        element.innerHTML = '';\n",
              "        dataTable['output_type'] = 'display_data';\n",
              "        await google.colab.output.renderOutput(dataTable, element);\n",
              "        const docLink = document.createElement('div');\n",
              "        docLink.innerHTML = docLinkHtml;\n",
              "        element.appendChild(docLink);\n",
              "      }\n",
              "    </script>\n",
              "  </div>\n",
              "\n",
              "\n",
              "<div id=\"df-3e0dea29-4a2e-4205-9e27-92b0b4bd67f5\">\n",
              "  <button class=\"colab-df-quickchart\" onclick=\"quickchart('df-3e0dea29-4a2e-4205-9e27-92b0b4bd67f5')\"\n",
              "            title=\"Suggest charts\"\n",
              "            style=\"display:none;\">\n",
              "\n",
              "<svg xmlns=\"http://www.w3.org/2000/svg\" height=\"24px\"viewBox=\"0 0 24 24\"\n",
              "     width=\"24px\">\n",
              "    <g>\n",
              "        <path d=\"M19 3H5c-1.1 0-2 .9-2 2v14c0 1.1.9 2 2 2h14c1.1 0 2-.9 2-2V5c0-1.1-.9-2-2-2zM9 17H7v-7h2v7zm4 0h-2V7h2v10zm4 0h-2v-4h2v4z\"/>\n",
              "    </g>\n",
              "</svg>\n",
              "  </button>\n",
              "\n",
              "<style>\n",
              "  .colab-df-quickchart {\n",
              "      --bg-color: #E8F0FE;\n",
              "      --fill-color: #1967D2;\n",
              "      --hover-bg-color: #E2EBFA;\n",
              "      --hover-fill-color: #174EA6;\n",
              "      --disabled-fill-color: #AAA;\n",
              "      --disabled-bg-color: #DDD;\n",
              "  }\n",
              "\n",
              "  [theme=dark] .colab-df-quickchart {\n",
              "      --bg-color: #3B4455;\n",
              "      --fill-color: #D2E3FC;\n",
              "      --hover-bg-color: #434B5C;\n",
              "      --hover-fill-color: #FFFFFF;\n",
              "      --disabled-bg-color: #3B4455;\n",
              "      --disabled-fill-color: #666;\n",
              "  }\n",
              "\n",
              "  .colab-df-quickchart {\n",
              "    background-color: var(--bg-color);\n",
              "    border: none;\n",
              "    border-radius: 50%;\n",
              "    cursor: pointer;\n",
              "    display: none;\n",
              "    fill: var(--fill-color);\n",
              "    height: 32px;\n",
              "    padding: 0;\n",
              "    width: 32px;\n",
              "  }\n",
              "\n",
              "  .colab-df-quickchart:hover {\n",
              "    background-color: var(--hover-bg-color);\n",
              "    box-shadow: 0 1px 2px rgba(60, 64, 67, 0.3), 0 1px 3px 1px rgba(60, 64, 67, 0.15);\n",
              "    fill: var(--button-hover-fill-color);\n",
              "  }\n",
              "\n",
              "  .colab-df-quickchart-complete:disabled,\n",
              "  .colab-df-quickchart-complete:disabled:hover {\n",
              "    background-color: var(--disabled-bg-color);\n",
              "    fill: var(--disabled-fill-color);\n",
              "    box-shadow: none;\n",
              "  }\n",
              "\n",
              "  .colab-df-spinner {\n",
              "    border: 2px solid var(--fill-color);\n",
              "    border-color: transparent;\n",
              "    border-bottom-color: var(--fill-color);\n",
              "    animation:\n",
              "      spin 1s steps(1) infinite;\n",
              "  }\n",
              "\n",
              "  @keyframes spin {\n",
              "    0% {\n",
              "      border-color: transparent;\n",
              "      border-bottom-color: var(--fill-color);\n",
              "      border-left-color: var(--fill-color);\n",
              "    }\n",
              "    20% {\n",
              "      border-color: transparent;\n",
              "      border-left-color: var(--fill-color);\n",
              "      border-top-color: var(--fill-color);\n",
              "    }\n",
              "    30% {\n",
              "      border-color: transparent;\n",
              "      border-left-color: var(--fill-color);\n",
              "      border-top-color: var(--fill-color);\n",
              "      border-right-color: var(--fill-color);\n",
              "    }\n",
              "    40% {\n",
              "      border-color: transparent;\n",
              "      border-right-color: var(--fill-color);\n",
              "      border-top-color: var(--fill-color);\n",
              "    }\n",
              "    60% {\n",
              "      border-color: transparent;\n",
              "      border-right-color: var(--fill-color);\n",
              "    }\n",
              "    80% {\n",
              "      border-color: transparent;\n",
              "      border-right-color: var(--fill-color);\n",
              "      border-bottom-color: var(--fill-color);\n",
              "    }\n",
              "    90% {\n",
              "      border-color: transparent;\n",
              "      border-bottom-color: var(--fill-color);\n",
              "    }\n",
              "  }\n",
              "</style>\n",
              "\n",
              "  <script>\n",
              "    async function quickchart(key) {\n",
              "      const quickchartButtonEl =\n",
              "        document.querySelector('#' + key + ' button');\n",
              "      quickchartButtonEl.disabled = true;  // To prevent multiple clicks.\n",
              "      quickchartButtonEl.classList.add('colab-df-spinner');\n",
              "      try {\n",
              "        const charts = await google.colab.kernel.invokeFunction(\n",
              "            'suggestCharts', [key], {});\n",
              "      } catch (error) {\n",
              "        console.error('Error during call to suggestCharts:', error);\n",
              "      }\n",
              "      quickchartButtonEl.classList.remove('colab-df-spinner');\n",
              "      quickchartButtonEl.classList.add('colab-df-quickchart-complete');\n",
              "    }\n",
              "    (() => {\n",
              "      let quickchartButtonEl =\n",
              "        document.querySelector('#df-3e0dea29-4a2e-4205-9e27-92b0b4bd67f5 button');\n",
              "      quickchartButtonEl.style.display =\n",
              "        google.colab.kernel.accessAllowed ? 'block' : 'none';\n",
              "    })();\n",
              "  </script>\n",
              "</div>\n",
              "    </div>\n",
              "  </div>\n"
            ],
            "application/vnd.google.colaboratory.intrinsic+json": {
              "type": "dataframe",
              "summary": "{\n  \"name\": \"pd\",\n  \"rows\": 4,\n  \"fields\": [\n    {\n      \"column\": \"count\",\n      \"properties\": {\n        \"dtype\": \"number\",\n        \"std\": 23.671361036774655,\n        \"min\": 2686.0,\n        \"max\": 2734.0,\n        \"num_unique_values\": 3,\n        \"samples\": [\n          2686.0,\n          2733.0,\n          2734.0\n        ],\n        \"semantic_type\": \"\",\n        \"description\": \"\"\n      }\n    },\n    {\n      \"column\": \"mean\",\n      \"properties\": {\n        \"dtype\": \"number\",\n        \"std\": 51.994766318826116,\n        \"min\": 116.34326135517499,\n        \"max\": 234.417124039517,\n        \"num_unique_values\": 4,\n        \"samples\": [\n          215.25137211855105,\n          198.98829553767374,\n          116.34326135517499\n        ],\n        \"semantic_type\": \"\",\n        \"description\": \"\"\n      }\n    },\n    {\n      \"column\": \"std\",\n      \"properties\": {\n        \"dtype\": \"number\",\n        \"std\": 32.88215525208918,\n        \"min\": 125.27397388810313,\n        \"max\": 197.15100053680393,\n        \"num_unique_values\": 4,\n        \"samples\": [\n          192.00784313546262,\n          177.62240938763696,\n          125.27397388810313\n        ],\n        \"semantic_type\": \"\",\n        \"description\": \"\"\n      }\n    },\n    {\n      \"column\": \"min\",\n      \"properties\": {\n        \"dtype\": \"number\",\n        \"std\": 0.0,\n        \"min\": 1.0,\n        \"max\": 1.0,\n        \"num_unique_values\": 1,\n        \"samples\": [\n          1.0\n        ],\n        \"semantic_type\": \"\",\n        \"description\": \"\"\n      }\n    },\n    {\n      \"column\": \"25%\",\n      \"properties\": {\n        \"dtype\": \"number\",\n        \"std\": 18.12916618784953,\n        \"min\": 24.0,\n        \"max\": 68.0,\n        \"num_unique_values\": 4,\n        \"samples\": [\n          49.0\n        ],\n        \"semantic_type\": \"\",\n        \"description\": \"\"\n      }\n    },\n    {\n      \"column\": \"50%\",\n      \"properties\": {\n        \"dtype\": \"number\",\n        \"std\": 51.00653552895616,\n        \"min\": 78.0,\n        \"max\": 195.0,\n        \"num_unique_values\": 4,\n        \"samples\": [\n          172.0\n        ],\n        \"semantic_type\": \"\",\n        \"description\": \"\"\n      }\n    },\n    {\n      \"column\": \"75%\",\n      \"properties\": {\n        \"dtype\": \"number\",\n        \"std\": 81.26704949321916,\n        \"min\": 164.0,\n        \"max\": 347.0,\n        \"num_unique_values\": 4,\n        \"samples\": [\n          321.0\n        ],\n        \"semantic_type\": \"\",\n        \"description\": \"\"\n      }\n    },\n    {\n      \"column\": \"max\",\n      \"properties\": {\n        \"dtype\": \"number\",\n        \"std\": 79.08381629638266,\n        \"min\": 801.0,\n        \"max\": 977.0,\n        \"num_unique_values\": 4,\n        \"samples\": [\n          873.0\n        ],\n        \"semantic_type\": \"\",\n        \"description\": \"\"\n      }\n    }\n  ]\n}"
            }
          },
          "metadata": {},
          "execution_count": 71
        }
      ]
    },
    {
      "cell_type": "code",
      "source": [
        "# 4. Weather -\n",
        "pd.DataFrame(dfn.groupby('weather')['count'].describe())"
      ],
      "metadata": {
        "colab": {
          "base_uri": "https://localhost:8080/",
          "height": 206
        },
        "id": "egDRLSrwYT-n",
        "outputId": "71b9a795-e44e-4549-b47d-e71d44568742"
      },
      "id": "egDRLSrwYT-n",
      "execution_count": null,
      "outputs": [
        {
          "output_type": "execute_result",
          "data": {
            "text/plain": [
              "          count        mean         std    min    25%    50%    75%    max\n",
              "weather                                                                   \n",
              "1        7192.0  205.236791  187.959566    1.0   48.0  161.0  305.0  977.0\n",
              "2        2834.0  178.955540  168.366413    1.0   41.0  134.0  264.0  890.0\n",
              "3         859.0  118.846333  138.581297    1.0   23.0   71.0  161.0  891.0\n",
              "4           1.0  164.000000         NaN  164.0  164.0  164.0  164.0  164.0"
            ],
            "text/html": [
              "\n",
              "  <div id=\"df-434b91a7-4b95-43c9-aaa4-2be552f72fd9\" class=\"colab-df-container\">\n",
              "    <div>\n",
              "<style scoped>\n",
              "    .dataframe tbody tr th:only-of-type {\n",
              "        vertical-align: middle;\n",
              "    }\n",
              "\n",
              "    .dataframe tbody tr th {\n",
              "        vertical-align: top;\n",
              "    }\n",
              "\n",
              "    .dataframe thead th {\n",
              "        text-align: right;\n",
              "    }\n",
              "</style>\n",
              "<table border=\"1\" class=\"dataframe\">\n",
              "  <thead>\n",
              "    <tr style=\"text-align: right;\">\n",
              "      <th></th>\n",
              "      <th>count</th>\n",
              "      <th>mean</th>\n",
              "      <th>std</th>\n",
              "      <th>min</th>\n",
              "      <th>25%</th>\n",
              "      <th>50%</th>\n",
              "      <th>75%</th>\n",
              "      <th>max</th>\n",
              "    </tr>\n",
              "    <tr>\n",
              "      <th>weather</th>\n",
              "      <th></th>\n",
              "      <th></th>\n",
              "      <th></th>\n",
              "      <th></th>\n",
              "      <th></th>\n",
              "      <th></th>\n",
              "      <th></th>\n",
              "      <th></th>\n",
              "    </tr>\n",
              "  </thead>\n",
              "  <tbody>\n",
              "    <tr>\n",
              "      <th>1</th>\n",
              "      <td>7192.0</td>\n",
              "      <td>205.236791</td>\n",
              "      <td>187.959566</td>\n",
              "      <td>1.0</td>\n",
              "      <td>48.0</td>\n",
              "      <td>161.0</td>\n",
              "      <td>305.0</td>\n",
              "      <td>977.0</td>\n",
              "    </tr>\n",
              "    <tr>\n",
              "      <th>2</th>\n",
              "      <td>2834.0</td>\n",
              "      <td>178.955540</td>\n",
              "      <td>168.366413</td>\n",
              "      <td>1.0</td>\n",
              "      <td>41.0</td>\n",
              "      <td>134.0</td>\n",
              "      <td>264.0</td>\n",
              "      <td>890.0</td>\n",
              "    </tr>\n",
              "    <tr>\n",
              "      <th>3</th>\n",
              "      <td>859.0</td>\n",
              "      <td>118.846333</td>\n",
              "      <td>138.581297</td>\n",
              "      <td>1.0</td>\n",
              "      <td>23.0</td>\n",
              "      <td>71.0</td>\n",
              "      <td>161.0</td>\n",
              "      <td>891.0</td>\n",
              "    </tr>\n",
              "    <tr>\n",
              "      <th>4</th>\n",
              "      <td>1.0</td>\n",
              "      <td>164.000000</td>\n",
              "      <td>NaN</td>\n",
              "      <td>164.0</td>\n",
              "      <td>164.0</td>\n",
              "      <td>164.0</td>\n",
              "      <td>164.0</td>\n",
              "      <td>164.0</td>\n",
              "    </tr>\n",
              "  </tbody>\n",
              "</table>\n",
              "</div>\n",
              "    <div class=\"colab-df-buttons\">\n",
              "\n",
              "  <div class=\"colab-df-container\">\n",
              "    <button class=\"colab-df-convert\" onclick=\"convertToInteractive('df-434b91a7-4b95-43c9-aaa4-2be552f72fd9')\"\n",
              "            title=\"Convert this dataframe to an interactive table.\"\n",
              "            style=\"display:none;\">\n",
              "\n",
              "  <svg xmlns=\"http://www.w3.org/2000/svg\" height=\"24px\" viewBox=\"0 -960 960 960\">\n",
              "    <path d=\"M120-120v-720h720v720H120Zm60-500h600v-160H180v160Zm220 220h160v-160H400v160Zm0 220h160v-160H400v160ZM180-400h160v-160H180v160Zm440 0h160v-160H620v160ZM180-180h160v-160H180v160Zm440 0h160v-160H620v160Z\"/>\n",
              "  </svg>\n",
              "    </button>\n",
              "\n",
              "  <style>\n",
              "    .colab-df-container {\n",
              "      display:flex;\n",
              "      gap: 12px;\n",
              "    }\n",
              "\n",
              "    .colab-df-convert {\n",
              "      background-color: #E8F0FE;\n",
              "      border: none;\n",
              "      border-radius: 50%;\n",
              "      cursor: pointer;\n",
              "      display: none;\n",
              "      fill: #1967D2;\n",
              "      height: 32px;\n",
              "      padding: 0 0 0 0;\n",
              "      width: 32px;\n",
              "    }\n",
              "\n",
              "    .colab-df-convert:hover {\n",
              "      background-color: #E2EBFA;\n",
              "      box-shadow: 0px 1px 2px rgba(60, 64, 67, 0.3), 0px 1px 3px 1px rgba(60, 64, 67, 0.15);\n",
              "      fill: #174EA6;\n",
              "    }\n",
              "\n",
              "    .colab-df-buttons div {\n",
              "      margin-bottom: 4px;\n",
              "    }\n",
              "\n",
              "    [theme=dark] .colab-df-convert {\n",
              "      background-color: #3B4455;\n",
              "      fill: #D2E3FC;\n",
              "    }\n",
              "\n",
              "    [theme=dark] .colab-df-convert:hover {\n",
              "      background-color: #434B5C;\n",
              "      box-shadow: 0px 1px 3px 1px rgba(0, 0, 0, 0.15);\n",
              "      filter: drop-shadow(0px 1px 2px rgba(0, 0, 0, 0.3));\n",
              "      fill: #FFFFFF;\n",
              "    }\n",
              "  </style>\n",
              "\n",
              "    <script>\n",
              "      const buttonEl =\n",
              "        document.querySelector('#df-434b91a7-4b95-43c9-aaa4-2be552f72fd9 button.colab-df-convert');\n",
              "      buttonEl.style.display =\n",
              "        google.colab.kernel.accessAllowed ? 'block' : 'none';\n",
              "\n",
              "      async function convertToInteractive(key) {\n",
              "        const element = document.querySelector('#df-434b91a7-4b95-43c9-aaa4-2be552f72fd9');\n",
              "        const dataTable =\n",
              "          await google.colab.kernel.invokeFunction('convertToInteractive',\n",
              "                                                    [key], {});\n",
              "        if (!dataTable) return;\n",
              "\n",
              "        const docLinkHtml = 'Like what you see? Visit the ' +\n",
              "          '<a target=\"_blank\" href=https://colab.research.google.com/notebooks/data_table.ipynb>data table notebook</a>'\n",
              "          + ' to learn more about interactive tables.';\n",
              "        element.innerHTML = '';\n",
              "        dataTable['output_type'] = 'display_data';\n",
              "        await google.colab.output.renderOutput(dataTable, element);\n",
              "        const docLink = document.createElement('div');\n",
              "        docLink.innerHTML = docLinkHtml;\n",
              "        element.appendChild(docLink);\n",
              "      }\n",
              "    </script>\n",
              "  </div>\n",
              "\n",
              "\n",
              "<div id=\"df-7b3c4c2e-99c2-4c72-b3cb-4ef79f3cd8d3\">\n",
              "  <button class=\"colab-df-quickchart\" onclick=\"quickchart('df-7b3c4c2e-99c2-4c72-b3cb-4ef79f3cd8d3')\"\n",
              "            title=\"Suggest charts\"\n",
              "            style=\"display:none;\">\n",
              "\n",
              "<svg xmlns=\"http://www.w3.org/2000/svg\" height=\"24px\"viewBox=\"0 0 24 24\"\n",
              "     width=\"24px\">\n",
              "    <g>\n",
              "        <path d=\"M19 3H5c-1.1 0-2 .9-2 2v14c0 1.1.9 2 2 2h14c1.1 0 2-.9 2-2V5c0-1.1-.9-2-2-2zM9 17H7v-7h2v7zm4 0h-2V7h2v10zm4 0h-2v-4h2v4z\"/>\n",
              "    </g>\n",
              "</svg>\n",
              "  </button>\n",
              "\n",
              "<style>\n",
              "  .colab-df-quickchart {\n",
              "      --bg-color: #E8F0FE;\n",
              "      --fill-color: #1967D2;\n",
              "      --hover-bg-color: #E2EBFA;\n",
              "      --hover-fill-color: #174EA6;\n",
              "      --disabled-fill-color: #AAA;\n",
              "      --disabled-bg-color: #DDD;\n",
              "  }\n",
              "\n",
              "  [theme=dark] .colab-df-quickchart {\n",
              "      --bg-color: #3B4455;\n",
              "      --fill-color: #D2E3FC;\n",
              "      --hover-bg-color: #434B5C;\n",
              "      --hover-fill-color: #FFFFFF;\n",
              "      --disabled-bg-color: #3B4455;\n",
              "      --disabled-fill-color: #666;\n",
              "  }\n",
              "\n",
              "  .colab-df-quickchart {\n",
              "    background-color: var(--bg-color);\n",
              "    border: none;\n",
              "    border-radius: 50%;\n",
              "    cursor: pointer;\n",
              "    display: none;\n",
              "    fill: var(--fill-color);\n",
              "    height: 32px;\n",
              "    padding: 0;\n",
              "    width: 32px;\n",
              "  }\n",
              "\n",
              "  .colab-df-quickchart:hover {\n",
              "    background-color: var(--hover-bg-color);\n",
              "    box-shadow: 0 1px 2px rgba(60, 64, 67, 0.3), 0 1px 3px 1px rgba(60, 64, 67, 0.15);\n",
              "    fill: var(--button-hover-fill-color);\n",
              "  }\n",
              "\n",
              "  .colab-df-quickchart-complete:disabled,\n",
              "  .colab-df-quickchart-complete:disabled:hover {\n",
              "    background-color: var(--disabled-bg-color);\n",
              "    fill: var(--disabled-fill-color);\n",
              "    box-shadow: none;\n",
              "  }\n",
              "\n",
              "  .colab-df-spinner {\n",
              "    border: 2px solid var(--fill-color);\n",
              "    border-color: transparent;\n",
              "    border-bottom-color: var(--fill-color);\n",
              "    animation:\n",
              "      spin 1s steps(1) infinite;\n",
              "  }\n",
              "\n",
              "  @keyframes spin {\n",
              "    0% {\n",
              "      border-color: transparent;\n",
              "      border-bottom-color: var(--fill-color);\n",
              "      border-left-color: var(--fill-color);\n",
              "    }\n",
              "    20% {\n",
              "      border-color: transparent;\n",
              "      border-left-color: var(--fill-color);\n",
              "      border-top-color: var(--fill-color);\n",
              "    }\n",
              "    30% {\n",
              "      border-color: transparent;\n",
              "      border-left-color: var(--fill-color);\n",
              "      border-top-color: var(--fill-color);\n",
              "      border-right-color: var(--fill-color);\n",
              "    }\n",
              "    40% {\n",
              "      border-color: transparent;\n",
              "      border-right-color: var(--fill-color);\n",
              "      border-top-color: var(--fill-color);\n",
              "    }\n",
              "    60% {\n",
              "      border-color: transparent;\n",
              "      border-right-color: var(--fill-color);\n",
              "    }\n",
              "    80% {\n",
              "      border-color: transparent;\n",
              "      border-right-color: var(--fill-color);\n",
              "      border-bottom-color: var(--fill-color);\n",
              "    }\n",
              "    90% {\n",
              "      border-color: transparent;\n",
              "      border-bottom-color: var(--fill-color);\n",
              "    }\n",
              "  }\n",
              "</style>\n",
              "\n",
              "  <script>\n",
              "    async function quickchart(key) {\n",
              "      const quickchartButtonEl =\n",
              "        document.querySelector('#' + key + ' button');\n",
              "      quickchartButtonEl.disabled = true;  // To prevent multiple clicks.\n",
              "      quickchartButtonEl.classList.add('colab-df-spinner');\n",
              "      try {\n",
              "        const charts = await google.colab.kernel.invokeFunction(\n",
              "            'suggestCharts', [key], {});\n",
              "      } catch (error) {\n",
              "        console.error('Error during call to suggestCharts:', error);\n",
              "      }\n",
              "      quickchartButtonEl.classList.remove('colab-df-spinner');\n",
              "      quickchartButtonEl.classList.add('colab-df-quickchart-complete');\n",
              "    }\n",
              "    (() => {\n",
              "      let quickchartButtonEl =\n",
              "        document.querySelector('#df-7b3c4c2e-99c2-4c72-b3cb-4ef79f3cd8d3 button');\n",
              "      quickchartButtonEl.style.display =\n",
              "        google.colab.kernel.accessAllowed ? 'block' : 'none';\n",
              "    })();\n",
              "  </script>\n",
              "</div>\n",
              "    </div>\n",
              "  </div>\n"
            ],
            "application/vnd.google.colaboratory.intrinsic+json": {
              "type": "dataframe",
              "summary": "{\n  \"name\": \"pd\",\n  \"rows\": 4,\n  \"fields\": [\n    {\n      \"column\": \"count\",\n      \"properties\": {\n        \"dtype\": \"number\",\n        \"std\": 3207.7018252948637,\n        \"min\": 1.0,\n        \"max\": 7192.0,\n        \"num_unique_values\": 4,\n        \"samples\": [\n          2834.0,\n          1.0,\n          7192.0\n        ],\n        \"semantic_type\": \"\",\n        \"description\": \"\"\n      }\n    },\n    {\n      \"column\": \"mean\",\n      \"properties\": {\n        \"dtype\": \"number\",\n        \"std\": 36.20557838834711,\n        \"min\": 118.84633294528521,\n        \"max\": 205.23679087875416,\n        \"num_unique_values\": 4,\n        \"samples\": [\n          178.95553987297106,\n          164.0,\n          205.23679087875416\n        ],\n        \"semantic_type\": \"\",\n        \"description\": \"\"\n      }\n    },\n    {\n      \"column\": \"std\",\n      \"properties\": {\n        \"dtype\": \"number\",\n        \"std\": 24.863823194460068,\n        \"min\": 138.5812970523591,\n        \"max\": 187.9595660313149,\n        \"num_unique_values\": 3,\n        \"samples\": [\n          187.9595660313149,\n          168.36641290145073,\n          138.5812970523591\n        ],\n        \"semantic_type\": \"\",\n        \"description\": \"\"\n      }\n    },\n    {\n      \"column\": \"min\",\n      \"properties\": {\n        \"dtype\": \"number\",\n        \"std\": 81.5,\n        \"min\": 1.0,\n        \"max\": 164.0,\n        \"num_unique_values\": 2,\n        \"samples\": [\n          164.0,\n          1.0\n        ],\n        \"semantic_type\": \"\",\n        \"description\": \"\"\n      }\n    },\n    {\n      \"column\": \"25%\",\n      \"properties\": {\n        \"dtype\": \"number\",\n        \"std\": 64.20280367709809,\n        \"min\": 23.0,\n        \"max\": 164.0,\n        \"num_unique_values\": 4,\n        \"samples\": [\n          41.0,\n          164.0\n        ],\n        \"semantic_type\": \"\",\n        \"description\": \"\"\n      }\n    },\n    {\n      \"column\": \"50%\",\n      \"properties\": {\n        \"dtype\": \"number\",\n        \"std\": 43.162483709814474,\n        \"min\": 71.0,\n        \"max\": 164.0,\n        \"num_unique_values\": 4,\n        \"samples\": [\n          134.0,\n          164.0\n        ],\n        \"semantic_type\": \"\",\n        \"description\": \"\"\n      }\n    },\n    {\n      \"column\": \"75%\",\n      \"properties\": {\n        \"dtype\": \"number\",\n        \"std\": 72.40856302952021,\n        \"min\": 161.0,\n        \"max\": 305.0,\n        \"num_unique_values\": 4,\n        \"samples\": [\n          264.0,\n          164.0\n        ],\n        \"semantic_type\": \"\",\n        \"description\": \"\"\n      }\n    },\n    {\n      \"column\": \"max\",\n      \"properties\": {\n        \"dtype\": \"number\",\n        \"std\": 379.8618169808595,\n        \"min\": 164.0,\n        \"max\": 977.0,\n        \"num_unique_values\": 4,\n        \"samples\": [\n          890.0,\n          164.0\n        ],\n        \"semantic_type\": \"\",\n        \"description\": \"\"\n      }\n    }\n  ]\n}"
            }
          },
          "metadata": {},
          "execution_count": 72
        }
      ]
    },
    {
      "cell_type": "markdown",
      "source": [
        "---\n",
        "\n",
        "\n",
        "\n",
        "### Ques. 1 - Is there any significant difference between the no. of bike rides on weekdays and weekends?\n",
        "---"
      ],
      "metadata": {
        "id": "cFoUBGA0b7GA"
      },
      "id": "cFoUBGA0b7GA"
    },
    {
      "cell_type": "markdown",
      "id": "ec8a180e",
      "metadata": {
        "id": "ec8a180e"
      },
      "source": [
        "#### **Step 1:** Define the null and alternate hypothesis"
      ]
    },
    {
      "cell_type": "markdown",
      "id": "6ec8d21e",
      "metadata": {
        "id": "6ec8d21e"
      },
      "source": [
        "$H_0:$ The demand of bikes on weekdays is greater or similar to the demand of bikes on weekend.\n",
        "\n",
        "$H_a:$ The demand of bikes on weekdays is less than the demand of bikes on weekend.\n",
        "\n",
        "Let $\\mu_1$ and $\\mu_2$ be the average no. of bikes rented on weekdays and weekends respectively.\n",
        "\n",
        "Mathematically, the above formulated hypothesis can be written as:\n",
        "\n",
        "$H_0: \\mu_1 >= \\mu_2$\n",
        "\n",
        "$H_a: \\mu_1 < \\mu_2$"
      ]
    },
    {
      "cell_type": "markdown",
      "source": [
        "**Ques.** What is the difference between a t-test and a z-test?\n",
        "\n",
        "**Ans.**\n",
        "\n",
        "* A t-test looks at two sets of data that are different from each other, with no standard deviation or variance.\n",
        "\n",
        "* A z-test views the averages of data sets that are different from each other but have the standard deviation or variance given.\n",
        "\n",
        "* The t test as compared with z test has its advantage for small sample comparison. As n increases, t approaches to z. The advantage of t test disappears, and t distribution simply becomes z distribution.\n",
        "\n",
        "* In other words, with large n, t test is just close to z test and one doen't lose anything to continue to use t test.\n",
        "\n",
        "* In the past, for convenience, we use z table when n > 30.  We don't have to do it anymore.\n",
        "\n",
        "* In fact, all statistical packages use t test even n is large. This is easy, convenience with computer programming, and is correct. All statistical packages are good references."
      ],
      "metadata": {
        "id": "mZmivAhd2Lnf"
      },
      "id": "mZmivAhd2Lnf"
    },
    {
      "cell_type": "markdown",
      "id": "87c763c6",
      "metadata": {
        "id": "87c763c6"
      },
      "source": [
        "#### **Step 2:** Select an appropriate test"
      ]
    },
    {
      "cell_type": "markdown",
      "source": [
        "Note that the standard deviation of the population is not known."
      ],
      "metadata": {
        "id": "iEQ3Hu2I6ISA"
      },
      "id": "iEQ3Hu2I6ISA"
    },
    {
      "cell_type": "code",
      "source": [
        "weekday = dfn[dfn['workingday'] == 1]['count'].sample(2999)\n",
        "weekend = dfn[dfn['workingday'] == 0]['count'].sample(2999)"
      ],
      "metadata": {
        "id": "HmiUrzwlqOMq"
      },
      "id": "HmiUrzwlqOMq",
      "execution_count": null,
      "outputs": []
    },
    {
      "cell_type": "markdown",
      "source": [
        "**Ques.** Why do we take same no. of samples from two different populations for conducting the tests?\n",
        "\n",
        "**Ans.**\n",
        "* Unequal sample sizes can lead to unequal variances between samples, which affects the assumption of equal variances in tests like t-test, ANOVA, etc.\n",
        "\n",
        "* Having both unequal sample sizes and variances dramatically affects the statistical power of a test.\n"
      ],
      "metadata": {
        "id": "mMIOmYYk2QPq"
      },
      "id": "mMIOmYYk2QPq"
    },
    {
      "cell_type": "code",
      "source": [
        "print('The sample standard deviation of the bike rides on weekday is:', round(weekday.std(), 2))\n",
        "print('The sample standard deviation of the bike rides on weekend is:', round(weekend.std(), 2))"
      ],
      "metadata": {
        "colab": {
          "base_uri": "https://localhost:8080/"
        },
        "id": "PJ5u9yhqqPdC",
        "outputId": "4e11e7e1-14e5-4af6-bf8a-227903042993"
      },
      "id": "PJ5u9yhqqPdC",
      "execution_count": null,
      "outputs": [
        {
          "output_type": "stream",
          "name": "stdout",
          "text": [
            "The sample standard deviation of the bike rides on weekday is: 184.91\n",
            "The sample standard deviation of the bike rides on weekend is: 173.43\n"
          ]
        }
      ]
    },
    {
      "cell_type": "markdown",
      "source": [],
      "metadata": {
        "id": "f8VpQptK0Ad3"
      },
      "id": "f8VpQptK0Ad3"
    },
    {
      "cell_type": "markdown",
      "source": [
        "As the sample standard deviations are different, the population standard deviations can be assumed to be different."
      ],
      "metadata": {
        "id": "aK4T7blnqWZO"
      },
      "id": "aK4T7blnqWZO"
    },
    {
      "cell_type": "markdown",
      "source": [
        "This is a one-tailed test concerning two population means from two independent populations. As the population standard deviations are unknown, the two sample independent t-test will be the appropriate test for this problem."
      ],
      "metadata": {
        "id": "W9xL-K0SqMl-"
      },
      "id": "W9xL-K0SqMl-"
    },
    {
      "cell_type": "markdown",
      "source": [
        "#### **Step 3:** Decide the significance level\n",
        "\n",
        "As given in the problem statement, we select α = 0.05."
      ],
      "metadata": {
        "id": "aJF22wqXfIXH"
      },
      "id": "aJF22wqXfIXH"
    },
    {
      "cell_type": "code",
      "source": [
        "alpha = 0.05"
      ],
      "metadata": {
        "id": "TQ-dOfezfJCz"
      },
      "id": "TQ-dOfezfJCz",
      "execution_count": null,
      "outputs": []
    },
    {
      "cell_type": "markdown",
      "id": "4c0c7304",
      "metadata": {
        "id": "4c0c7304"
      },
      "source": [
        "#### **Step 4:** Calculate the p-value"
      ]
    },
    {
      "cell_type": "code",
      "source": [
        "def result(p_value, alpha):\n",
        "  if p_value < alpha:\n",
        "    print(f'As the p-value {p_value} is less than the level of significance, we reject the null hypothesis.')\n",
        "  else:\n",
        "    print(f'As the p-value {p_value} is greater than the level of significance, we fail to reject the null hypothesis.')"
      ],
      "metadata": {
        "id": "pePsO9p7cVBY"
      },
      "id": "pePsO9p7cVBY",
      "execution_count": null,
      "outputs": []
    },
    {
      "cell_type": "code",
      "execution_count": null,
      "id": "10379138",
      "metadata": {
        "id": "10379138",
        "outputId": "8bcd989e-f39f-4097-8b78-c4bb11f0624e",
        "colab": {
          "base_uri": "https://localhost:8080/"
        }
      },
      "outputs": [
        {
          "output_type": "stream",
          "name": "stdout",
          "text": [
            "The p-value is :  0.9245936341671919\n",
            "As the p-value 0.9245936341671919 is greater than the level of significance, we fail to reject the null hypothesis.\n"
          ]
        }
      ],
      "source": [
        "test_stat, p_value = ttest_ind(weekday, weekend, equal_var=False, alternative='less')\n",
        "print('The p-value is : ', p_value)\n",
        "\n",
        "result(p_value, alpha)"
      ]
    },
    {
      "cell_type": "markdown",
      "source": [
        "**Observation:** Since the p-value is greater than the 5% significance level, we fail to reject the null hypothesis. Hence, we have enough statistical evidence to say that the average no. of bike rides during weekdays is greater than or equal to those on weekends."
      ],
      "metadata": {
        "id": "a6DkwuNoeRR_"
      },
      "id": "a6DkwuNoeRR_"
    },
    {
      "cell_type": "markdown",
      "source": [
        "---\n",
        "### Ques. 2 - Is there any significant difference between the no. of bike rides on regular days and holidays?\n",
        "---"
      ],
      "metadata": {
        "id": "6U7Lb36rTJ99"
      },
      "id": "6U7Lb36rTJ99"
    },
    {
      "cell_type": "markdown",
      "source": [
        "#### **Step 1:** Define the null and alternate hypothesis"
      ],
      "metadata": {
        "id": "t2iJwXeUTka6"
      },
      "id": "t2iJwXeUTka6"
    },
    {
      "cell_type": "markdown",
      "source": [
        "$H_0:$ The demand of bikes on regular days is greater or similar to the demand of bikes on holidays.\n",
        "\n",
        "$H_a:$ The demand of bikes on regular days is less than the demand of bikes on holidays.\n",
        "\n",
        "Let $\\mu_1$ and $\\mu_2$ be the average no. of bikes rented on regular days and holidays respectively.\n",
        "\n",
        "Mathematically, the above formulated hypothesis can be written as:\n",
        "\n",
        "$H_0: \\mu_1 >= \\mu_2$\n",
        "\n",
        "$H_a: \\mu_1 < \\mu_2$"
      ],
      "metadata": {
        "id": "z73zbtB9Tlem"
      },
      "id": "z73zbtB9Tlem"
    },
    {
      "cell_type": "markdown",
      "source": [
        "#### **Step 2:** Select an appropriate test"
      ],
      "metadata": {
        "id": "0MWvhnB7UnjR"
      },
      "id": "0MWvhnB7UnjR"
    },
    {
      "cell_type": "markdown",
      "source": [
        "Again the standard deviation of the population is not known."
      ],
      "metadata": {
        "id": "NUGqJyN5VZvc"
      },
      "id": "NUGqJyN5VZvc"
    },
    {
      "cell_type": "code",
      "source": [
        "holiday = dfn[dfn['holiday'] == 1]['count'].sample(299)\n",
        "regular = dfn[dfn['holiday'] == 0]['count'].sample(299)"
      ],
      "metadata": {
        "id": "G9seigrXUqvM"
      },
      "id": "G9seigrXUqvM",
      "execution_count": null,
      "outputs": []
    },
    {
      "cell_type": "code",
      "source": [
        "print('The sample standard deviation of the bike rides on holidays is:', round(holiday.std(), 2))\n",
        "print('The sample standard deviation of the bike rides on regular days is:', round(regular.std(), 2))"
      ],
      "metadata": {
        "colab": {
          "base_uri": "https://localhost:8080/"
        },
        "id": "Biv0fzvmUqyJ",
        "outputId": "14e1d1ad-9119-487c-ef6d-aa5ccb86cbb8"
      },
      "id": "Biv0fzvmUqyJ",
      "execution_count": null,
      "outputs": [
        {
          "output_type": "stream",
          "name": "stdout",
          "text": [
            "The sample standard deviation of the bike rides on holidays is: 167.88\n",
            "The sample standard deviation of the bike rides on regular days is: 175.46\n"
          ]
        }
      ]
    },
    {
      "cell_type": "markdown",
      "source": [
        "As the sample standard deviations are different, the population standard deviations can be assumed to be different."
      ],
      "metadata": {
        "id": "F0b02jYOcPsO"
      },
      "id": "F0b02jYOcPsO"
    },
    {
      "cell_type": "markdown",
      "source": [
        "This is also a one-tailed test concerning two population means from two independent populations. As the population standard deviations are unknown, the two sample independent t-test will be the appropriate test for this problem."
      ],
      "metadata": {
        "id": "Vd6CYctsVhKM"
      },
      "id": "Vd6CYctsVhKM"
    },
    {
      "cell_type": "markdown",
      "source": [
        "#### **Step 3:** Decide the significance level\n",
        "\n",
        "The significance level (α) is already set to 5% i.e., 0.05"
      ],
      "metadata": {
        "id": "paIq-F6PUv3B"
      },
      "id": "paIq-F6PUv3B"
    },
    {
      "cell_type": "markdown",
      "source": [
        "#### **Step 4:** Calculate the p-value"
      ],
      "metadata": {
        "id": "iJoofYptU0IY"
      },
      "id": "iJoofYptU0IY"
    },
    {
      "cell_type": "code",
      "source": [
        "test_stat, p_value = ttest_ind(regular, holiday, equal_var=False, alternative='less')\n",
        "print('The p-value is : ', p_value)\n",
        "\n",
        "result(p_value, alpha)"
      ],
      "metadata": {
        "colab": {
          "base_uri": "https://localhost:8080/"
        },
        "id": "ZQtqer2dVHz1",
        "outputId": "12883120-1e86-41d2-a556-15f30c77806f"
      },
      "id": "ZQtqer2dVHz1",
      "execution_count": null,
      "outputs": [
        {
          "output_type": "stream",
          "name": "stdout",
          "text": [
            "The p-value is :  0.40666340157158687\n",
            "As the p-value 0.40666340157158687 is greater than the level of significance, we fail to reject the null hypothesis.\n"
          ]
        }
      ]
    },
    {
      "cell_type": "markdown",
      "source": [
        "**Observation:** Since the p-value is greater than the 5% significance level, we fail to reject the null hypothesis. Hence, we have enough statistical evidence to say that the average no. of bike rides during regular days is greater than or equal to those on holidays."
      ],
      "metadata": {
        "id": "RWkrLRZGVGNV"
      },
      "id": "RWkrLRZGVGNV"
    },
    {
      "cell_type": "markdown",
      "id": "afc32419",
      "metadata": {
        "id": "afc32419"
      },
      "source": [
        "---\n",
        "### Ques. 3 - Is the demand of bicycles on rent same for different weather conditions?\n",
        "---"
      ]
    },
    {
      "cell_type": "markdown",
      "source": [
        "#### **Step 1:** Define the null and alternate hypothesis\n",
        "\n",
        "$H_0:$ The average no. of bike rides in different weather conditions  are equal.\n",
        "\n",
        "$H_a:$ The average no. of bike rides in different weather conditions are not equal.\n",
        "\n",
        "Let $\\mu_1$ and $\\mu_2$ be the average no. of bikes rented on weekdays and weekends respectively."
      ],
      "metadata": {
        "id": "wq3h-j2OoSNv"
      },
      "id": "wq3h-j2OoSNv"
    },
    {
      "cell_type": "markdown",
      "source": [
        "#### **Step 2:** Select an appropriate test\n"
      ],
      "metadata": {
        "id": "et3oo04WiFxf"
      },
      "id": "et3oo04WiFxf"
    },
    {
      "cell_type": "code",
      "source": [
        "dfn = dfn[~(dfn['weather']==4)]"
      ],
      "metadata": {
        "id": "t5UVEa09qmkL"
      },
      "id": "t5UVEa09qmkL",
      "execution_count": null,
      "outputs": []
    },
    {
      "cell_type": "code",
      "source": [
        "w1 = dfn[dfn['weather'] == 1]['count'].sample(750)\n",
        "w2 = dfn[dfn['weather'] == 2]['count'].sample(750)\n",
        "w3 = dfn[dfn['weather'] == 3]['count'].sample(750)"
      ],
      "metadata": {
        "id": "bYgfcceQqmnJ"
      },
      "id": "bYgfcceQqmnJ",
      "execution_count": null,
      "outputs": []
    },
    {
      "cell_type": "code",
      "source": [
        "dfn.groupby(['weather'])['count'].describe()"
      ],
      "metadata": {
        "colab": {
          "base_uri": "https://localhost:8080/"
        },
        "id": "Mwtl1NnGqmqb",
        "outputId": "750a63e9-0ae6-4297-d3d6-44b597cb077c"
      },
      "id": "Mwtl1NnGqmqb",
      "execution_count": null,
      "outputs": [
        {
          "output_type": "execute_result",
          "data": {
            "text/plain": [
              "          count        mean         std  min   25%    50%    75%    max\n",
              "weather                                                                \n",
              "1        7192.0  205.236791  187.959566  1.0  48.0  161.0  305.0  977.0\n",
              "2        2834.0  178.955540  168.366413  1.0  41.0  134.0  264.0  890.0\n",
              "3         859.0  118.846333  138.581297  1.0  23.0   71.0  161.0  891.0"
            ],
            "text/html": [
              "\n",
              "  <div id=\"df-0bc456a1-0aff-4ebb-996d-b0c8848cddc4\" class=\"colab-df-container\">\n",
              "    <div>\n",
              "<style scoped>\n",
              "    .dataframe tbody tr th:only-of-type {\n",
              "        vertical-align: middle;\n",
              "    }\n",
              "\n",
              "    .dataframe tbody tr th {\n",
              "        vertical-align: top;\n",
              "    }\n",
              "\n",
              "    .dataframe thead th {\n",
              "        text-align: right;\n",
              "    }\n",
              "</style>\n",
              "<table border=\"1\" class=\"dataframe\">\n",
              "  <thead>\n",
              "    <tr style=\"text-align: right;\">\n",
              "      <th></th>\n",
              "      <th>count</th>\n",
              "      <th>mean</th>\n",
              "      <th>std</th>\n",
              "      <th>min</th>\n",
              "      <th>25%</th>\n",
              "      <th>50%</th>\n",
              "      <th>75%</th>\n",
              "      <th>max</th>\n",
              "    </tr>\n",
              "    <tr>\n",
              "      <th>weather</th>\n",
              "      <th></th>\n",
              "      <th></th>\n",
              "      <th></th>\n",
              "      <th></th>\n",
              "      <th></th>\n",
              "      <th></th>\n",
              "      <th></th>\n",
              "      <th></th>\n",
              "    </tr>\n",
              "  </thead>\n",
              "  <tbody>\n",
              "    <tr>\n",
              "      <th>1</th>\n",
              "      <td>7192.0</td>\n",
              "      <td>205.236791</td>\n",
              "      <td>187.959566</td>\n",
              "      <td>1.0</td>\n",
              "      <td>48.0</td>\n",
              "      <td>161.0</td>\n",
              "      <td>305.0</td>\n",
              "      <td>977.0</td>\n",
              "    </tr>\n",
              "    <tr>\n",
              "      <th>2</th>\n",
              "      <td>2834.0</td>\n",
              "      <td>178.955540</td>\n",
              "      <td>168.366413</td>\n",
              "      <td>1.0</td>\n",
              "      <td>41.0</td>\n",
              "      <td>134.0</td>\n",
              "      <td>264.0</td>\n",
              "      <td>890.0</td>\n",
              "    </tr>\n",
              "    <tr>\n",
              "      <th>3</th>\n",
              "      <td>859.0</td>\n",
              "      <td>118.846333</td>\n",
              "      <td>138.581297</td>\n",
              "      <td>1.0</td>\n",
              "      <td>23.0</td>\n",
              "      <td>71.0</td>\n",
              "      <td>161.0</td>\n",
              "      <td>891.0</td>\n",
              "    </tr>\n",
              "  </tbody>\n",
              "</table>\n",
              "</div>\n",
              "    <div class=\"colab-df-buttons\">\n",
              "\n",
              "  <div class=\"colab-df-container\">\n",
              "    <button class=\"colab-df-convert\" onclick=\"convertToInteractive('df-0bc456a1-0aff-4ebb-996d-b0c8848cddc4')\"\n",
              "            title=\"Convert this dataframe to an interactive table.\"\n",
              "            style=\"display:none;\">\n",
              "\n",
              "  <svg xmlns=\"http://www.w3.org/2000/svg\" height=\"24px\" viewBox=\"0 -960 960 960\">\n",
              "    <path d=\"M120-120v-720h720v720H120Zm60-500h600v-160H180v160Zm220 220h160v-160H400v160Zm0 220h160v-160H400v160ZM180-400h160v-160H180v160Zm440 0h160v-160H620v160ZM180-180h160v-160H180v160Zm440 0h160v-160H620v160Z\"/>\n",
              "  </svg>\n",
              "    </button>\n",
              "\n",
              "  <style>\n",
              "    .colab-df-container {\n",
              "      display:flex;\n",
              "      gap: 12px;\n",
              "    }\n",
              "\n",
              "    .colab-df-convert {\n",
              "      background-color: #E8F0FE;\n",
              "      border: none;\n",
              "      border-radius: 50%;\n",
              "      cursor: pointer;\n",
              "      display: none;\n",
              "      fill: #1967D2;\n",
              "      height: 32px;\n",
              "      padding: 0 0 0 0;\n",
              "      width: 32px;\n",
              "    }\n",
              "\n",
              "    .colab-df-convert:hover {\n",
              "      background-color: #E2EBFA;\n",
              "      box-shadow: 0px 1px 2px rgba(60, 64, 67, 0.3), 0px 1px 3px 1px rgba(60, 64, 67, 0.15);\n",
              "      fill: #174EA6;\n",
              "    }\n",
              "\n",
              "    .colab-df-buttons div {\n",
              "      margin-bottom: 4px;\n",
              "    }\n",
              "\n",
              "    [theme=dark] .colab-df-convert {\n",
              "      background-color: #3B4455;\n",
              "      fill: #D2E3FC;\n",
              "    }\n",
              "\n",
              "    [theme=dark] .colab-df-convert:hover {\n",
              "      background-color: #434B5C;\n",
              "      box-shadow: 0px 1px 3px 1px rgba(0, 0, 0, 0.15);\n",
              "      filter: drop-shadow(0px 1px 2px rgba(0, 0, 0, 0.3));\n",
              "      fill: #FFFFFF;\n",
              "    }\n",
              "  </style>\n",
              "\n",
              "    <script>\n",
              "      const buttonEl =\n",
              "        document.querySelector('#df-0bc456a1-0aff-4ebb-996d-b0c8848cddc4 button.colab-df-convert');\n",
              "      buttonEl.style.display =\n",
              "        google.colab.kernel.accessAllowed ? 'block' : 'none';\n",
              "\n",
              "      async function convertToInteractive(key) {\n",
              "        const element = document.querySelector('#df-0bc456a1-0aff-4ebb-996d-b0c8848cddc4');\n",
              "        const dataTable =\n",
              "          await google.colab.kernel.invokeFunction('convertToInteractive',\n",
              "                                                    [key], {});\n",
              "        if (!dataTable) return;\n",
              "\n",
              "        const docLinkHtml = 'Like what you see? Visit the ' +\n",
              "          '<a target=\"_blank\" href=https://colab.research.google.com/notebooks/data_table.ipynb>data table notebook</a>'\n",
              "          + ' to learn more about interactive tables.';\n",
              "        element.innerHTML = '';\n",
              "        dataTable['output_type'] = 'display_data';\n",
              "        await google.colab.output.renderOutput(dataTable, element);\n",
              "        const docLink = document.createElement('div');\n",
              "        docLink.innerHTML = docLinkHtml;\n",
              "        element.appendChild(docLink);\n",
              "      }\n",
              "    </script>\n",
              "  </div>\n",
              "\n",
              "\n",
              "<div id=\"df-28dd5bdf-be37-42a7-86b1-7bb8147ccf97\">\n",
              "  <button class=\"colab-df-quickchart\" onclick=\"quickchart('df-28dd5bdf-be37-42a7-86b1-7bb8147ccf97')\"\n",
              "            title=\"Suggest charts\"\n",
              "            style=\"display:none;\">\n",
              "\n",
              "<svg xmlns=\"http://www.w3.org/2000/svg\" height=\"24px\"viewBox=\"0 0 24 24\"\n",
              "     width=\"24px\">\n",
              "    <g>\n",
              "        <path d=\"M19 3H5c-1.1 0-2 .9-2 2v14c0 1.1.9 2 2 2h14c1.1 0 2-.9 2-2V5c0-1.1-.9-2-2-2zM9 17H7v-7h2v7zm4 0h-2V7h2v10zm4 0h-2v-4h2v4z\"/>\n",
              "    </g>\n",
              "</svg>\n",
              "  </button>\n",
              "\n",
              "<style>\n",
              "  .colab-df-quickchart {\n",
              "      --bg-color: #E8F0FE;\n",
              "      --fill-color: #1967D2;\n",
              "      --hover-bg-color: #E2EBFA;\n",
              "      --hover-fill-color: #174EA6;\n",
              "      --disabled-fill-color: #AAA;\n",
              "      --disabled-bg-color: #DDD;\n",
              "  }\n",
              "\n",
              "  [theme=dark] .colab-df-quickchart {\n",
              "      --bg-color: #3B4455;\n",
              "      --fill-color: #D2E3FC;\n",
              "      --hover-bg-color: #434B5C;\n",
              "      --hover-fill-color: #FFFFFF;\n",
              "      --disabled-bg-color: #3B4455;\n",
              "      --disabled-fill-color: #666;\n",
              "  }\n",
              "\n",
              "  .colab-df-quickchart {\n",
              "    background-color: var(--bg-color);\n",
              "    border: none;\n",
              "    border-radius: 50%;\n",
              "    cursor: pointer;\n",
              "    display: none;\n",
              "    fill: var(--fill-color);\n",
              "    height: 32px;\n",
              "    padding: 0;\n",
              "    width: 32px;\n",
              "  }\n",
              "\n",
              "  .colab-df-quickchart:hover {\n",
              "    background-color: var(--hover-bg-color);\n",
              "    box-shadow: 0 1px 2px rgba(60, 64, 67, 0.3), 0 1px 3px 1px rgba(60, 64, 67, 0.15);\n",
              "    fill: var(--button-hover-fill-color);\n",
              "  }\n",
              "\n",
              "  .colab-df-quickchart-complete:disabled,\n",
              "  .colab-df-quickchart-complete:disabled:hover {\n",
              "    background-color: var(--disabled-bg-color);\n",
              "    fill: var(--disabled-fill-color);\n",
              "    box-shadow: none;\n",
              "  }\n",
              "\n",
              "  .colab-df-spinner {\n",
              "    border: 2px solid var(--fill-color);\n",
              "    border-color: transparent;\n",
              "    border-bottom-color: var(--fill-color);\n",
              "    animation:\n",
              "      spin 1s steps(1) infinite;\n",
              "  }\n",
              "\n",
              "  @keyframes spin {\n",
              "    0% {\n",
              "      border-color: transparent;\n",
              "      border-bottom-color: var(--fill-color);\n",
              "      border-left-color: var(--fill-color);\n",
              "    }\n",
              "    20% {\n",
              "      border-color: transparent;\n",
              "      border-left-color: var(--fill-color);\n",
              "      border-top-color: var(--fill-color);\n",
              "    }\n",
              "    30% {\n",
              "      border-color: transparent;\n",
              "      border-left-color: var(--fill-color);\n",
              "      border-top-color: var(--fill-color);\n",
              "      border-right-color: var(--fill-color);\n",
              "    }\n",
              "    40% {\n",
              "      border-color: transparent;\n",
              "      border-right-color: var(--fill-color);\n",
              "      border-top-color: var(--fill-color);\n",
              "    }\n",
              "    60% {\n",
              "      border-color: transparent;\n",
              "      border-right-color: var(--fill-color);\n",
              "    }\n",
              "    80% {\n",
              "      border-color: transparent;\n",
              "      border-right-color: var(--fill-color);\n",
              "      border-bottom-color: var(--fill-color);\n",
              "    }\n",
              "    90% {\n",
              "      border-color: transparent;\n",
              "      border-bottom-color: var(--fill-color);\n",
              "    }\n",
              "  }\n",
              "</style>\n",
              "\n",
              "  <script>\n",
              "    async function quickchart(key) {\n",
              "      const quickchartButtonEl =\n",
              "        document.querySelector('#' + key + ' button');\n",
              "      quickchartButtonEl.disabled = true;  // To prevent multiple clicks.\n",
              "      quickchartButtonEl.classList.add('colab-df-spinner');\n",
              "      try {\n",
              "        const charts = await google.colab.kernel.invokeFunction(\n",
              "            'suggestCharts', [key], {});\n",
              "      } catch (error) {\n",
              "        console.error('Error during call to suggestCharts:', error);\n",
              "      }\n",
              "      quickchartButtonEl.classList.remove('colab-df-spinner');\n",
              "      quickchartButtonEl.classList.add('colab-df-quickchart-complete');\n",
              "    }\n",
              "    (() => {\n",
              "      let quickchartButtonEl =\n",
              "        document.querySelector('#df-28dd5bdf-be37-42a7-86b1-7bb8147ccf97 button');\n",
              "      quickchartButtonEl.style.display =\n",
              "        google.colab.kernel.accessAllowed ? 'block' : 'none';\n",
              "    })();\n",
              "  </script>\n",
              "</div>\n",
              "    </div>\n",
              "  </div>\n"
            ],
            "application/vnd.google.colaboratory.intrinsic+json": {
              "type": "dataframe",
              "summary": "{\n  \"name\": \"dfn\",\n  \"rows\": 3,\n  \"fields\": [\n    {\n      \"column\": \"count\",\n      \"properties\": {\n        \"dtype\": \"number\",\n        \"std\": 3240.362068246901,\n        \"min\": 859.0,\n        \"max\": 7192.0,\n        \"num_unique_values\": 3,\n        \"samples\": [\n          7192.0,\n          2834.0,\n          859.0\n        ],\n        \"semantic_type\": \"\",\n        \"description\": \"\"\n      }\n    },\n    {\n      \"column\": \"mean\",\n      \"properties\": {\n        \"dtype\": \"number\",\n        \"std\": 44.2853100810694,\n        \"min\": 118.84633294528521,\n        \"max\": 205.23679087875416,\n        \"num_unique_values\": 3,\n        \"samples\": [\n          205.23679087875416,\n          178.95553987297106,\n          118.84633294528521\n        ],\n        \"semantic_type\": \"\",\n        \"description\": \"\"\n      }\n    },\n    {\n      \"column\": \"std\",\n      \"properties\": {\n        \"dtype\": \"number\",\n        \"std\": 24.863823194460068,\n        \"min\": 138.5812970523591,\n        \"max\": 187.9595660313149,\n        \"num_unique_values\": 3,\n        \"samples\": [\n          187.9595660313149,\n          168.36641290145073,\n          138.5812970523591\n        ],\n        \"semantic_type\": \"\",\n        \"description\": \"\"\n      }\n    },\n    {\n      \"column\": \"min\",\n      \"properties\": {\n        \"dtype\": \"number\",\n        \"std\": 0.0,\n        \"min\": 1.0,\n        \"max\": 1.0,\n        \"num_unique_values\": 1,\n        \"samples\": [\n          1.0\n        ],\n        \"semantic_type\": \"\",\n        \"description\": \"\"\n      }\n    },\n    {\n      \"column\": \"25%\",\n      \"properties\": {\n        \"dtype\": \"number\",\n        \"std\": 12.897028081435403,\n        \"min\": 23.0,\n        \"max\": 48.0,\n        \"num_unique_values\": 3,\n        \"samples\": [\n          48.0\n        ],\n        \"semantic_type\": \"\",\n        \"description\": \"\"\n      }\n    },\n    {\n      \"column\": \"50%\",\n      \"properties\": {\n        \"dtype\": \"number\",\n        \"std\": 46.184412955021955,\n        \"min\": 71.0,\n        \"max\": 161.0,\n        \"num_unique_values\": 3,\n        \"samples\": [\n          161.0\n        ],\n        \"semantic_type\": \"\",\n        \"description\": \"\"\n      }\n    },\n    {\n      \"column\": \"75%\",\n      \"properties\": {\n        \"dtype\": \"number\",\n        \"std\": 74.19119444606167,\n        \"min\": 161.0,\n        \"max\": 305.0,\n        \"num_unique_values\": 3,\n        \"samples\": [\n          305.0\n        ],\n        \"semantic_type\": \"\",\n        \"description\": \"\"\n      }\n    },\n    {\n      \"column\": \"max\",\n      \"properties\": {\n        \"dtype\": \"number\",\n        \"std\": 49.94330118577799,\n        \"min\": 890.0,\n        \"max\": 977.0,\n        \"num_unique_values\": 3,\n        \"samples\": [\n          977.0\n        ],\n        \"semantic_type\": \"\",\n        \"description\": \"\"\n      }\n    }\n  ]\n}"
            }
          },
          "metadata": {},
          "execution_count": 83
        }
      ]
    },
    {
      "cell_type": "markdown",
      "source": [
        "This is a problem, concerning three independent population means. **One-way ANOVA** could be the appropriate test here provided normality and equality of variance assumptions are verified.\n",
        "\n",
        "The ANOVA test has important assumptions that must be satisfied in order for the associated p-value to be valid.\n",
        "\n",
        "* The samples are independent.\n",
        "* Each sample is from a normally distributed population.\n",
        "* The population variance of the groups are all equal."
      ],
      "metadata": {
        "id": "0ZpM-zPrqkn_"
      },
      "id": "0ZpM-zPrqkn_"
    },
    {
      "cell_type": "markdown",
      "source": [
        "Now, we will be using the following statistical tests to check the normality and euality of variance of the data set -\n",
        "\n",
        "* For testing of normality, Shapiro-Wilk’s test is applied to the response variable.\n",
        "\n",
        "* For equality of variance, Levene test is applied to the response variable."
      ],
      "metadata": {
        "id": "-TKFNtPiVXj9"
      },
      "id": "-TKFNtPiVXj9"
    },
    {
      "cell_type": "markdown",
      "source": [
        "#### Shapiro-Wilk’s test -\n",
        "\n",
        "We will test the null hypothesis\n",
        "\n",
        ">$H_0:$ Count follows normal distribution\n",
        "\n",
        "against the alternative hypothesis\n",
        "\n",
        ">$H_a:$ Count doesn't follow normal distribution\n",
        "\n"
      ],
      "metadata": {
        "id": "PaLgpKEliJIx"
      },
      "id": "PaLgpKEliJIx"
    },
    {
      "cell_type": "code",
      "execution_count": null,
      "id": "06baf969",
      "metadata": {
        "id": "06baf969",
        "outputId": "74309dc1-622f-45c4-fdc6-ebeed02eae43",
        "colab": {
          "base_uri": "https://localhost:8080/"
        }
      },
      "outputs": [
        {
          "output_type": "stream",
          "name": "stdout",
          "text": [
            "The p-value is :  0.0\n",
            "As the p-value 0.0 is less than the level of significance, we reject the null hypothesis.\n"
          ]
        }
      ],
      "source": [
        "# Assumption 1: Normality\n",
        "\n",
        "w, p_value = shapiro(dfn['count'].sample(4999))\n",
        "print('The p-value is : ', p_value)\n",
        "\n",
        "result(p_value, alpha)"
      ]
    },
    {
      "cell_type": "markdown",
      "id": "138cf2ed",
      "metadata": {
        "id": "138cf2ed"
      },
      "source": [
        "#### Levene’s test -\n",
        "\n",
        "We will test the null hypothesis\n",
        "\n",
        ">$H_0$: All the count variances are equal\n",
        "\n",
        "against the alternative hypothesis\n",
        "\n",
        ">$H_a$: At least one variance is different from the rest"
      ]
    },
    {
      "cell_type": "code",
      "execution_count": null,
      "id": "2549eea2",
      "metadata": {
        "id": "2549eea2",
        "outputId": "a5f1964d-83d9-46e3-ae7d-81363e61ed1a",
        "colab": {
          "base_uri": "https://localhost:8080/"
        }
      },
      "outputs": [
        {
          "output_type": "stream",
          "name": "stdout",
          "text": [
            "The p-value is :  1.1915385128947197e-20\n",
            "As the p-value 1.1915385128947197e-20 is less than the level of significance, we reject the null hypothesis.\n"
          ]
        }
      ],
      "source": [
        "#Assumption 2: Homogeneity of Variance\n",
        "\n",
        "stat, p_value = levene(w1, w2, w3)\n",
        "print('The p-value is : ', p_value)\n",
        "\n",
        "result(p_value, alpha)"
      ]
    },
    {
      "cell_type": "markdown",
      "source": [
        "**Note:** If these assumptions are not true for a given set of data (like in this case), it may still be possible to use the **Kruskal-Wallis H-test** or the **Alexander-Govern test** although with some loss of power."
      ],
      "metadata": {
        "id": "4QSG7yPNh0cL"
      },
      "id": "4QSG7yPNh0cL"
    },
    {
      "cell_type": "markdown",
      "source": [
        "### Central Limit Theorem -\n",
        "\n",
        "You all must have studies about the CLT in previous classes.\n",
        "\n",
        "* According to this theorem, the distribution of sample means approximates a normal distribution as the sample size gets larger, regardless of the population's distribution.\n",
        "\n",
        "* In other words, if we find the mean of a large number of independent random variables, the mean\n",
        "will follow a normal distribution, irrespective of the distribution of the original variables.\n",
        "\n",
        "* In practice, sample sizes equal to or greater than 30-40 are often considered sufficient for the CLT to hold.\n",
        "\n",
        "Hence, the sample size being large enough, we don't need to worry about the non-normality of distribution of the data set in hand before applying the tests.\n",
        "\n",
        "Eventually, as the sample size gets larger, the distribution of sample means will fall into a normal or near normal shape.\n"
      ],
      "metadata": {
        "id": "f9vCWvfh2YrU"
      },
      "id": "f9vCWvfh2YrU"
    },
    {
      "cell_type": "markdown",
      "source": [
        "**Ques.** What are some of the basic methods (other than statistical tests) to test the normality & homogeneity of variance?"
      ],
      "metadata": {
        "id": "tPsIGkSEVu0B"
      },
      "id": "tPsIGkSEVu0B"
    },
    {
      "cell_type": "markdown",
      "source": [
        "A. To check for **Normality -**"
      ],
      "metadata": {
        "id": "ZYxTuogKZ7Gd"
      },
      "id": "ZYxTuogKZ7Gd"
    },
    {
      "cell_type": "code",
      "source": [
        "# Method 1: Using a Histogram\n",
        "# You should see a 'Bell' shaped curve.\n",
        "sbn.distplot(dfn['count'].sample(4999))"
      ],
      "metadata": {
        "colab": {
          "base_uri": "https://localhost:8080/"
        },
        "id": "cFjC-0R_WBBs",
        "outputId": "a5d8b9bc-57c4-451a-a44b-a486f611dc8c"
      },
      "id": "cFjC-0R_WBBs",
      "execution_count": null,
      "outputs": [
        {
          "output_type": "execute_result",
          "data": {
            "text/plain": [
              "<Axes: xlabel='count', ylabel='Density'>"
            ]
          },
          "metadata": {},
          "execution_count": 86
        },
        {
          "output_type": "display_data",
          "data": {
            "text/plain": [
              "<Figure size 640x480 with 1 Axes>"
            ],
            "image/png": "[encoded data removed]"
          },
          "metadata": {}
        }
      ]
    },
    {
      "cell_type": "code",
      "source": [
        "# Method 2: Using a Q-Q plot\n",
        "# The linearity of points suggests that the data is normally distributed.\n",
        "stats.probplot(dfn['count'], dist='norm', fit=True, plot=plt)\n",
        "plt.title('Q-Q Plot')\n",
        "plt.show()"
      ],
      "metadata": {
        "colab": {
          "base_uri": "https://localhost:8080/"
        },
        "id": "6hnqzkfmXpE8",
        "outputId": "e109b4fb-d18d-454f-acd2-6dd6a2fc6acf"
      },
      "id": "6hnqzkfmXpE8",
      "execution_count": null,
      "outputs": [
        {
          "output_type": "display_data",
          "data": {
            "text/plain": [
              "<Figure size 640x480 with 1 Axes>"
            ],
            "image/png": "[encoded data removed]"
          },
          "metadata": {}
        }
      ]
    },
    {
      "cell_type": "code",
      "source": [
        "# Method 3: Check skewness & kurtosis\n",
        "# Skewness should be close to 0 and Kurtosis close to 3.\n",
        "\n",
        "print(\"Skewness : \", df['count'].skew())\n",
        "print(\"Kurtosis : \", df['count'].kurt())"
      ],
      "metadata": {
        "colab": {
          "base_uri": "https://localhost:8080/"
        },
        "id": "_4BOl6Or6EFf",
        "outputId": "2936fd3b-d246-4c4f-e51b-2a3e8e890eb6"
      },
      "id": "_4BOl6Or6EFf",
      "execution_count": null,
      "outputs": [
        {
          "output_type": "stream",
          "name": "stdout",
          "text": [
            "Skewness :  1.2420662117180776\n",
            "Kurtosis :  1.3000929518398334\n"
          ]
        }
      ]
    },
    {
      "cell_type": "code",
      "source": [
        "## Method 4: Using KS Test to compare with the Gaussian CDF\n",
        "zs = (dfn[\"count\"] - dfn[\"count\"].mean())/dfn[\"count\"].std()\n",
        "stats.kstest(zs, stats.norm.cdf)"
      ],
      "metadata": {
        "id": "_EMVWVJN25UJ",
        "colab": {
          "base_uri": "https://localhost:8080/"
        },
        "outputId": "aed85644-d2e9-4651-f649-7bd13a93d5e2"
      },
      "id": "_EMVWVJN25UJ",
      "execution_count": null,
      "outputs": [
        {
          "output_type": "execute_result",
          "data": {
            "text/plain": [
              "KstestResult(statistic=0.14639452156041693, pvalue=4.588168862853853e-204, statistic_location=-1.0520229003098522, statistic_sign=-1)"
            ]
          },
          "metadata": {},
          "execution_count": 89
        }
      ]
    },
    {
      "cell_type": "markdown",
      "source": [
        "B. To check for **Homogeneity of Variance -**"
      ],
      "metadata": {
        "id": "IGn2uWV6Z_hN"
      },
      "id": "IGn2uWV6Z_hN"
    },
    {
      "cell_type": "code",
      "source": [
        "# Method 1:\n",
        "print(w1.var(), w2.var(), w3.var())"
      ],
      "metadata": {
        "colab": {
          "base_uri": "https://localhost:8080/"
        },
        "id": "fMmCcJQe2F27",
        "outputId": "a283fff1-8fdd-4299-f1f1-2cdb40f028fb"
      },
      "id": "fMmCcJQe2F27",
      "execution_count": null,
      "outputs": [
        {
          "output_type": "stream",
          "name": "stdout",
          "text": [
            "35659.165730307075 27729.404505562972 18391.258689808637\n"
          ]
        }
      ]
    },
    {
      "cell_type": "markdown",
      "source": [
        "#### **Step 3:** Decide the significance level\n",
        "\n",
        "The significance level (α) is already set to 5% i.e., 0.05"
      ],
      "metadata": {
        "id": "iv4RTCPPdrFM"
      },
      "id": "iv4RTCPPdrFM"
    },
    {
      "cell_type": "markdown",
      "source": [
        "#### **Step 4:** Calculate the p-value"
      ],
      "metadata": {
        "id": "e2UpK8Njd-wW"
      },
      "id": "e2UpK8Njd-wW"
    },
    {
      "cell_type": "markdown",
      "id": "e75a3971",
      "metadata": {
        "id": "e75a3971"
      },
      "source": [
        "One-way ANOVA -\n"
      ]
    },
    {
      "cell_type": "code",
      "execution_count": null,
      "id": "7d4ee3b1",
      "metadata": {
        "id": "7d4ee3b1",
        "outputId": "793696bf-145c-44c0-81c8-ac20d3467368",
        "colab": {
          "base_uri": "https://localhost:8080/"
        }
      },
      "outputs": [
        {
          "output_type": "stream",
          "name": "stdout",
          "text": [
            "The p-value is :  5.3746048284296645e-25\n",
            "As the p-value 5.3746048284296645e-25 is less than the level of significance, we reject the null hypothesis.\n"
          ]
        }
      ],
      "source": [
        "test_stat, p_value = f_oneway(w1, w2, w3)\n",
        "print('The p-value is : ', p_value)\n",
        "\n",
        "result(p_value, alpha)"
      ]
    },
    {
      "cell_type": "markdown",
      "source": [
        "**Observation:** Since the p-value is less than the 5% significance level, we reject the null hypothesis. Hence, we have enough statistical evidence to say that the average no. of bike rides in different weather conditions are not equal."
      ],
      "metadata": {
        "id": "QPun4uGl6oUm"
      },
      "id": "QPun4uGl6oUm"
    },
    {
      "cell_type": "markdown",
      "source": [
        "---\n",
        "### Ques. 4 - Is the demand of bicycles on rent same for different seasons?\n",
        "---"
      ],
      "metadata": {
        "id": "1SXayIkB7xJC"
      },
      "id": "1SXayIkB7xJC"
    },
    {
      "cell_type": "markdown",
      "source": [
        "#### **Step 1:** Define the null and alternate hypothesis\n",
        "\n",
        "$H_0:$ The average no. of bike rides in different seasons  are equal.\n",
        "\n",
        "$H_a:$ The average no. of bike rides in different seasons are not equal."
      ],
      "metadata": {
        "id": "z5AYFH4o70iF"
      },
      "id": "z5AYFH4o70iF"
    },
    {
      "cell_type": "markdown",
      "source": [
        "#### **Step 2:** Select an appropriate test"
      ],
      "metadata": {
        "id": "va12TtijWj5c"
      },
      "id": "va12TtijWj5c"
    },
    {
      "cell_type": "code",
      "execution_count": null,
      "id": "f9e38889",
      "metadata": {
        "id": "f9e38889"
      },
      "outputs": [],
      "source": [
        "s1 = dfn[dfn['season'] == 1]['count'].sample(2399)\n",
        "s2 = dfn[dfn['season'] == 2]['count'].sample(2399)\n",
        "s3 = dfn[dfn['season'] == 3]['count'].sample(2399)\n",
        "s4 = dfn[dfn['season'] == 3]['count'].sample(2399)"
      ]
    },
    {
      "cell_type": "code",
      "source": [
        "dfn.groupby(['season'])['count'].describe()"
      ],
      "metadata": {
        "colab": {
          "base_uri": "https://localhost:8080/"
        },
        "id": "RiwyjP_HcRc-",
        "outputId": "6074d45f-e2be-4837-8957-ef84590c1b1d"
      },
      "id": "RiwyjP_HcRc-",
      "execution_count": null,
      "outputs": [
        {
          "output_type": "execute_result",
          "data": {
            "text/plain": [
              "         count        mean         std  min   25%    50%    75%    max\n",
              "season                                                                \n",
              "1       2685.0  116.325512  125.293931  1.0  24.0   78.0  164.0  801.0\n",
              "2       2733.0  215.251372  192.007843  1.0  49.0  172.0  321.0  873.0\n",
              "3       2733.0  234.417124  197.151001  1.0  68.0  195.0  347.0  977.0\n",
              "4       2734.0  198.988296  177.622409  1.0  51.0  161.0  294.0  948.0"
            ],
            "text/html": [
              "\n",
              "  <div id=\"df-cf8073a8-be75-4be7-9ab0-ddb9b190d7f6\" class=\"colab-df-container\">\n",
              "    <div>\n",
              "<style scoped>\n",
              "    .dataframe tbody tr th:only-of-type {\n",
              "        vertical-align: middle;\n",
              "    }\n",
              "\n",
              "    .dataframe tbody tr th {\n",
              "        vertical-align: top;\n",
              "    }\n",
              "\n",
              "    .dataframe thead th {\n",
              "        text-align: right;\n",
              "    }\n",
              "</style>\n",
              "<table border=\"1\" class=\"dataframe\">\n",
              "  <thead>\n",
              "    <tr style=\"text-align: right;\">\n",
              "      <th></th>\n",
              "      <th>count</th>\n",
              "      <th>mean</th>\n",
              "      <th>std</th>\n",
              "      <th>min</th>\n",
              "      <th>25%</th>\n",
              "      <th>50%</th>\n",
              "      <th>75%</th>\n",
              "      <th>max</th>\n",
              "    </tr>\n",
              "    <tr>\n",
              "      <th>season</th>\n",
              "      <th></th>\n",
              "      <th></th>\n",
              "      <th></th>\n",
              "      <th></th>\n",
              "      <th></th>\n",
              "      <th></th>\n",
              "      <th></th>\n",
              "      <th></th>\n",
              "    </tr>\n",
              "  </thead>\n",
              "  <tbody>\n",
              "    <tr>\n",
              "      <th>1</th>\n",
              "      <td>2685.0</td>\n",
              "      <td>116.325512</td>\n",
              "      <td>125.293931</td>\n",
              "      <td>1.0</td>\n",
              "      <td>24.0</td>\n",
              "      <td>78.0</td>\n",
              "      <td>164.0</td>\n",
              "      <td>801.0</td>\n",
              "    </tr>\n",
              "    <tr>\n",
              "      <th>2</th>\n",
              "      <td>2733.0</td>\n",
              "      <td>215.251372</td>\n",
              "      <td>192.007843</td>\n",
              "      <td>1.0</td>\n",
              "      <td>49.0</td>\n",
              "      <td>172.0</td>\n",
              "      <td>321.0</td>\n",
              "      <td>873.0</td>\n",
              "    </tr>\n",
              "    <tr>\n",
              "      <th>3</th>\n",
              "      <td>2733.0</td>\n",
              "      <td>234.417124</td>\n",
              "      <td>197.151001</td>\n",
              "      <td>1.0</td>\n",
              "      <td>68.0</td>\n",
              "      <td>195.0</td>\n",
              "      <td>347.0</td>\n",
              "      <td>977.0</td>\n",
              "    </tr>\n",
              "    <tr>\n",
              "      <th>4</th>\n",
              "      <td>2734.0</td>\n",
              "      <td>198.988296</td>\n",
              "      <td>177.622409</td>\n",
              "      <td>1.0</td>\n",
              "      <td>51.0</td>\n",
              "      <td>161.0</td>\n",
              "      <td>294.0</td>\n",
              "      <td>948.0</td>\n",
              "    </tr>\n",
              "  </tbody>\n",
              "</table>\n",
              "</div>\n",
              "    <div class=\"colab-df-buttons\">\n",
              "\n",
              "  <div class=\"colab-df-container\">\n",
              "    <button class=\"colab-df-convert\" onclick=\"convertToInteractive('df-cf8073a8-be75-4be7-9ab0-ddb9b190d7f6')\"\n",
              "            title=\"Convert this dataframe to an interactive table.\"\n",
              "            style=\"display:none;\">\n",
              "\n",
              "  <svg xmlns=\"http://www.w3.org/2000/svg\" height=\"24px\" viewBox=\"0 -960 960 960\">\n",
              "    <path d=\"M120-120v-720h720v720H120Zm60-500h600v-160H180v160Zm220 220h160v-160H400v160Zm0 220h160v-160H400v160ZM180-400h160v-160H180v160Zm440 0h160v-160H620v160ZM180-180h160v-160H180v160Zm440 0h160v-160H620v160Z\"/>\n",
              "  </svg>\n",
              "    </button>\n",
              "\n",
              "  <style>\n",
              "    .colab-df-container {\n",
              "      display:flex;\n",
              "      gap: 12px;\n",
              "    }\n",
              "\n",
              "    .colab-df-convert {\n",
              "      background-color: #E8F0FE;\n",
              "      border: none;\n",
              "      border-radius: 50%;\n",
              "      cursor: pointer;\n",
              "      display: none;\n",
              "      fill: #1967D2;\n",
              "      height: 32px;\n",
              "      padding: 0 0 0 0;\n",
              "      width: 32px;\n",
              "    }\n",
              "\n",
              "    .colab-df-convert:hover {\n",
              "      background-color: #E2EBFA;\n",
              "      box-shadow: 0px 1px 2px rgba(60, 64, 67, 0.3), 0px 1px 3px 1px rgba(60, 64, 67, 0.15);\n",
              "      fill: #174EA6;\n",
              "    }\n",
              "\n",
              "    .colab-df-buttons div {\n",
              "      margin-bottom: 4px;\n",
              "    }\n",
              "\n",
              "    [theme=dark] .colab-df-convert {\n",
              "      background-color: #3B4455;\n",
              "      fill: #D2E3FC;\n",
              "    }\n",
              "\n",
              "    [theme=dark] .colab-df-convert:hover {\n",
              "      background-color: #434B5C;\n",
              "      box-shadow: 0px 1px 3px 1px rgba(0, 0, 0, 0.15);\n",
              "      filter: drop-shadow(0px 1px 2px rgba(0, 0, 0, 0.3));\n",
              "      fill: #FFFFFF;\n",
              "    }\n",
              "  </style>\n",
              "\n",
              "    <script>\n",
              "      const buttonEl =\n",
              "        document.querySelector('#df-cf8073a8-be75-4be7-9ab0-ddb9b190d7f6 button.colab-df-convert');\n",
              "      buttonEl.style.display =\n",
              "        google.colab.kernel.accessAllowed ? 'block' : 'none';\n",
              "\n",
              "      async function convertToInteractive(key) {\n",
              "        const element = document.querySelector('#df-cf8073a8-be75-4be7-9ab0-ddb9b190d7f6');\n",
              "        const dataTable =\n",
              "          await google.colab.kernel.invokeFunction('convertToInteractive',\n",
              "                                                    [key], {});\n",
              "        if (!dataTable) return;\n",
              "\n",
              "        const docLinkHtml = 'Like what you see? Visit the ' +\n",
              "          '<a target=\"_blank\" href=https://colab.research.google.com/notebooks/data_table.ipynb>data table notebook</a>'\n",
              "          + ' to learn more about interactive tables.';\n",
              "        element.innerHTML = '';\n",
              "        dataTable['output_type'] = 'display_data';\n",
              "        await google.colab.output.renderOutput(dataTable, element);\n",
              "        const docLink = document.createElement('div');\n",
              "        docLink.innerHTML = docLinkHtml;\n",
              "        element.appendChild(docLink);\n",
              "      }\n",
              "    </script>\n",
              "  </div>\n",
              "\n",
              "\n",
              "<div id=\"df-feaa406a-eb7b-4210-a633-5c938e19f841\">\n",
              "  <button class=\"colab-df-quickchart\" onclick=\"quickchart('df-feaa406a-eb7b-4210-a633-5c938e19f841')\"\n",
              "            title=\"Suggest charts\"\n",
              "            style=\"display:none;\">\n",
              "\n",
              "<svg xmlns=\"http://www.w3.org/2000/svg\" height=\"24px\"viewBox=\"0 0 24 24\"\n",
              "     width=\"24px\">\n",
              "    <g>\n",
              "        <path d=\"M19 3H5c-1.1 0-2 .9-2 2v14c0 1.1.9 2 2 2h14c1.1 0 2-.9 2-2V5c0-1.1-.9-2-2-2zM9 17H7v-7h2v7zm4 0h-2V7h2v10zm4 0h-2v-4h2v4z\"/>\n",
              "    </g>\n",
              "</svg>\n",
              "  </button>\n",
              "\n",
              "<style>\n",
              "  .colab-df-quickchart {\n",
              "      --bg-color: #E8F0FE;\n",
              "      --fill-color: #1967D2;\n",
              "      --hover-bg-color: #E2EBFA;\n",
              "      --hover-fill-color: #174EA6;\n",
              "      --disabled-fill-color: #AAA;\n",
              "      --disabled-bg-color: #DDD;\n",
              "  }\n",
              "\n",
              "  [theme=dark] .colab-df-quickchart {\n",
              "      --bg-color: #3B4455;\n",
              "      --fill-color: #D2E3FC;\n",
              "      --hover-bg-color: #434B5C;\n",
              "      --hover-fill-color: #FFFFFF;\n",
              "      --disabled-bg-color: #3B4455;\n",
              "      --disabled-fill-color: #666;\n",
              "  }\n",
              "\n",
              "  .colab-df-quickchart {\n",
              "    background-color: var(--bg-color);\n",
              "    border: none;\n",
              "    border-radius: 50%;\n",
              "    cursor: pointer;\n",
              "    display: none;\n",
              "    fill: var(--fill-color);\n",
              "    height: 32px;\n",
              "    padding: 0;\n",
              "    width: 32px;\n",
              "  }\n",
              "\n",
              "  .colab-df-quickchart:hover {\n",
              "    background-color: var(--hover-bg-color);\n",
              "    box-shadow: 0 1px 2px rgba(60, 64, 67, 0.3), 0 1px 3px 1px rgba(60, 64, 67, 0.15);\n",
              "    fill: var(--button-hover-fill-color);\n",
              "  }\n",
              "\n",
              "  .colab-df-quickchart-complete:disabled,\n",
              "  .colab-df-quickchart-complete:disabled:hover {\n",
              "    background-color: var(--disabled-bg-color);\n",
              "    fill: var(--disabled-fill-color);\n",
              "    box-shadow: none;\n",
              "  }\n",
              "\n",
              "  .colab-df-spinner {\n",
              "    border: 2px solid var(--fill-color);\n",
              "    border-color: transparent;\n",
              "    border-bottom-color: var(--fill-color);\n",
              "    animation:\n",
              "      spin 1s steps(1) infinite;\n",
              "  }\n",
              "\n",
              "  @keyframes spin {\n",
              "    0% {\n",
              "      border-color: transparent;\n",
              "      border-bottom-color: var(--fill-color);\n",
              "      border-left-color: var(--fill-color);\n",
              "    }\n",
              "    20% {\n",
              "      border-color: transparent;\n",
              "      border-left-color: var(--fill-color);\n",
              "      border-top-color: var(--fill-color);\n",
              "    }\n",
              "    30% {\n",
              "      border-color: transparent;\n",
              "      border-left-color: var(--fill-color);\n",
              "      border-top-color: var(--fill-color);\n",
              "      border-right-color: var(--fill-color);\n",
              "    }\n",
              "    40% {\n",
              "      border-color: transparent;\n",
              "      border-right-color: var(--fill-color);\n",
              "      border-top-color: var(--fill-color);\n",
              "    }\n",
              "    60% {\n",
              "      border-color: transparent;\n",
              "      border-right-color: var(--fill-color);\n",
              "    }\n",
              "    80% {\n",
              "      border-color: transparent;\n",
              "      border-right-color: var(--fill-color);\n",
              "      border-bottom-color: var(--fill-color);\n",
              "    }\n",
              "    90% {\n",
              "      border-color: transparent;\n",
              "      border-bottom-color: var(--fill-color);\n",
              "    }\n",
              "  }\n",
              "</style>\n",
              "\n",
              "  <script>\n",
              "    async function quickchart(key) {\n",
              "      const quickchartButtonEl =\n",
              "        document.querySelector('#' + key + ' button');\n",
              "      quickchartButtonEl.disabled = true;  // To prevent multiple clicks.\n",
              "      quickchartButtonEl.classList.add('colab-df-spinner');\n",
              "      try {\n",
              "        const charts = await google.colab.kernel.invokeFunction(\n",
              "            'suggestCharts', [key], {});\n",
              "      } catch (error) {\n",
              "        console.error('Error during call to suggestCharts:', error);\n",
              "      }\n",
              "      quickchartButtonEl.classList.remove('colab-df-spinner');\n",
              "      quickchartButtonEl.classList.add('colab-df-quickchart-complete');\n",
              "    }\n",
              "    (() => {\n",
              "      let quickchartButtonEl =\n",
              "        document.querySelector('#df-feaa406a-eb7b-4210-a633-5c938e19f841 button');\n",
              "      quickchartButtonEl.style.display =\n",
              "        google.colab.kernel.accessAllowed ? 'block' : 'none';\n",
              "    })();\n",
              "  </script>\n",
              "</div>\n",
              "    </div>\n",
              "  </div>\n"
            ],
            "application/vnd.google.colaboratory.intrinsic+json": {
              "type": "dataframe",
              "summary": "{\n  \"name\": \"dfn\",\n  \"rows\": 4,\n  \"fields\": [\n    {\n      \"column\": \"count\",\n      \"properties\": {\n        \"dtype\": \"number\",\n        \"std\": 24.171263930543642,\n        \"min\": 2685.0,\n        \"max\": 2734.0,\n        \"num_unique_values\": 3,\n        \"samples\": [\n          2685.0,\n          2733.0,\n          2734.0\n        ],\n        \"semantic_type\": \"\",\n        \"description\": \"\"\n      }\n    },\n    {\n      \"column\": \"mean\",\n      \"properties\": {\n        \"dtype\": \"number\",\n        \"std\": 52.00328991961679,\n        \"min\": 116.32551210428305,\n        \"max\": 234.417124039517,\n        \"num_unique_values\": 4,\n        \"samples\": [\n          215.25137211855105,\n          198.98829553767374,\n          116.32551210428305\n        ],\n        \"semantic_type\": \"\",\n        \"description\": \"\"\n      }\n    },\n    {\n      \"column\": \"std\",\n      \"properties\": {\n        \"dtype\": \"number\",\n        \"std\": 32.872497188986245,\n        \"min\": 125.29393087522533,\n        \"max\": 197.15100053680393,\n        \"num_unique_values\": 4,\n        \"samples\": [\n          192.00784313546262,\n          177.62240938763696,\n          125.29393087522533\n        ],\n        \"semantic_type\": \"\",\n        \"description\": \"\"\n      }\n    },\n    {\n      \"column\": \"min\",\n      \"properties\": {\n        \"dtype\": \"number\",\n        \"std\": 0.0,\n        \"min\": 1.0,\n        \"max\": 1.0,\n        \"num_unique_values\": 1,\n        \"samples\": [\n          1.0\n        ],\n        \"semantic_type\": \"\",\n        \"description\": \"\"\n      }\n    },\n    {\n      \"column\": \"25%\",\n      \"properties\": {\n        \"dtype\": \"number\",\n        \"std\": 18.12916618784953,\n        \"min\": 24.0,\n        \"max\": 68.0,\n        \"num_unique_values\": 4,\n        \"samples\": [\n          49.0\n        ],\n        \"semantic_type\": \"\",\n        \"description\": \"\"\n      }\n    },\n    {\n      \"column\": \"50%\",\n      \"properties\": {\n        \"dtype\": \"number\",\n        \"std\": 51.00653552895616,\n        \"min\": 78.0,\n        \"max\": 195.0,\n        \"num_unique_values\": 4,\n        \"samples\": [\n          172.0\n        ],\n        \"semantic_type\": \"\",\n        \"description\": \"\"\n      }\n    },\n    {\n      \"column\": \"75%\",\n      \"properties\": {\n        \"dtype\": \"number\",\n        \"std\": 81.26704949321916,\n        \"min\": 164.0,\n        \"max\": 347.0,\n        \"num_unique_values\": 4,\n        \"samples\": [\n          321.0\n        ],\n        \"semantic_type\": \"\",\n        \"description\": \"\"\n      }\n    },\n    {\n      \"column\": \"max\",\n      \"properties\": {\n        \"dtype\": \"number\",\n        \"std\": 79.08381629638266,\n        \"min\": 801.0,\n        \"max\": 977.0,\n        \"num_unique_values\": 4,\n        \"samples\": [\n          873.0\n        ],\n        \"semantic_type\": \"\",\n        \"description\": \"\"\n      }\n    }\n  ]\n}"
            }
          },
          "metadata": {},
          "execution_count": 93
        }
      ]
    },
    {
      "cell_type": "markdown",
      "source": [
        "#### **Step 3:** Decide the significance level\n",
        "\n",
        "The significance level (α) is already set to 5% i.e., 0.05"
      ],
      "metadata": {
        "id": "YRSX_VZwd38M"
      },
      "id": "YRSX_VZwd38M"
    },
    {
      "cell_type": "markdown",
      "source": [
        "#### **Step 4:** Calculate the p-value"
      ],
      "metadata": {
        "id": "KuzMqpQOeEJN"
      },
      "id": "KuzMqpQOeEJN"
    },
    {
      "cell_type": "markdown",
      "source": [
        "We have already performed tests for normality and homogeneity of variance. So we will be directly moving onto the One-way ANOVA test."
      ],
      "metadata": {
        "id": "lP3zlNPBcrFe"
      },
      "id": "lP3zlNPBcrFe"
    },
    {
      "cell_type": "code",
      "source": [
        "test_stat, p_value = f_oneway(s1, s2, s3, s4)\n",
        "print('The p-value is : ', p_value)\n",
        "\n",
        "result(p_value, alpha)"
      ],
      "metadata": {
        "colab": {
          "base_uri": "https://localhost:8080/"
        },
        "id": "Slorvd1nca3s",
        "outputId": "abba2cc5-5752-4eb0-b203-8d38702be6f0"
      },
      "id": "Slorvd1nca3s",
      "execution_count": null,
      "outputs": [
        {
          "output_type": "stream",
          "name": "stdout",
          "text": [
            "The p-value is :  1.0115131724208276e-147\n",
            "As the p-value 1.0115131724208276e-147 is less than the level of significance, we reject the null hypothesis.\n"
          ]
        }
      ]
    },
    {
      "cell_type": "markdown",
      "source": [
        "**Observation:** Since the p-value is less than the 5% significance level, we reject the null hypothesis. Hence, we have enough statistical evidence to say that the average no. of bike rides in different seasons are not equal."
      ],
      "metadata": {
        "id": "oSKIgBd2dOlF"
      },
      "id": "oSKIgBd2dOlF"
    },
    {
      "cell_type": "markdown",
      "source": [
        "**Ques.** How does the increase in sample size affect hypothesis testing?\n",
        "\n",
        "**Ans.** Increasing sample size makes the hypothesis test more sensitive, more likely to reject the null hypothesis when it is, in fact, false. Thus, it increases the power of the test."
      ],
      "metadata": {
        "id": "dgw9PRdN2nO1"
      },
      "id": "dgw9PRdN2nO1"
    },
    {
      "cell_type": "markdown",
      "source": [
        "---\n",
        "### Ques. 5 -  Are the weather conditions significantly different during different seasons?\n",
        "---\n",
        "\n"
      ],
      "metadata": {
        "id": "Hlpw6E1Ax4DF"
      },
      "id": "Hlpw6E1Ax4DF"
    },
    {
      "cell_type": "markdown",
      "source": [
        "#### **Step 1:** Define the null and alternate hypothesis\n",
        "\n",
        "$H_0:$ Weather conditions are independent of the season.\n",
        "\n",
        "$H_a:$ Weather condition depends on the ongoing season."
      ],
      "metadata": {
        "id": "QUUxs46oyU-0"
      },
      "id": "QUUxs46oyU-0"
    },
    {
      "cell_type": "markdown",
      "source": [
        "#### **Step 2:** Select an appropriate test"
      ],
      "metadata": {
        "id": "WRO22nl1yp8P"
      },
      "id": "WRO22nl1yp8P"
    },
    {
      "cell_type": "markdown",
      "source": [
        "Although the data values in 'season' and 'weather' columns are numerical, as per our intuition, they still represent different catgories. Hence, we will encode them accordingly before moving onto the tests."
      ],
      "metadata": {
        "id": "4gTA8q9zytYx"
      },
      "id": "4gTA8q9zytYx"
    },
    {
      "cell_type": "code",
      "source": [
        "dict1 = {1: 'Sunny',\n",
        "         2: 'Cloudy',\n",
        "         3: 'Rainy'}\n",
        "dfn['weather_enc'] = dfn['weather'].map(dict1)"
      ],
      "metadata": {
        "id": "AhDiAHS_dGKo"
      },
      "id": "AhDiAHS_dGKo",
      "execution_count": null,
      "outputs": []
    },
    {
      "cell_type": "code",
      "source": [
        "dict2 = {1: 'Summer',\n",
        "         2: 'Monsoon',\n",
        "         3: 'Winter',\n",
        "         4: 'Autumn'}\n",
        "dfn['season_enc'] = dfn['season'].map(dict2)"
      ],
      "metadata": {
        "id": "rxpmB3jyz34m"
      },
      "id": "rxpmB3jyz34m",
      "execution_count": null,
      "outputs": []
    },
    {
      "cell_type": "markdown",
      "source": [
        "Here we will be comparing two different categorical variables, 'season' and 'weather'. So will perform a **Chi-square test**."
      ],
      "metadata": {
        "id": "oNSETDmy1Myv"
      },
      "id": "oNSETDmy1Myv"
    },
    {
      "cell_type": "code",
      "source": [
        "contigency= pd.crosstab(dfn.season_enc, dfn.weather_enc)\n",
        "contigency"
      ],
      "metadata": {
        "colab": {
          "base_uri": "https://localhost:8080/"
        },
        "id": "TUdiwEs40vOL",
        "outputId": "5d096c78-f866-49cf-eb32-b917cf3c0af3"
      },
      "id": "TUdiwEs40vOL",
      "execution_count": null,
      "outputs": [
        {
          "output_type": "execute_result",
          "data": {
            "text/plain": [
              "weather_enc  Cloudy  Rainy  Sunny\n",
              "season_enc                       \n",
              "Autumn          807    225   1702\n",
              "Monsoon         708    224   1801\n",
              "Summer          715    211   1759\n",
              "Winter          604    199   1930"
            ],
            "text/html": [
              "\n",
              "  <div id=\"df-fa2a6b4a-d550-4d32-aeda-a91d6e578326\" class=\"colab-df-container\">\n",
              "    <div>\n",
              "<style scoped>\n",
              "    .dataframe tbody tr th:only-of-type {\n",
              "        vertical-align: middle;\n",
              "    }\n",
              "\n",
              "    .dataframe tbody tr th {\n",
              "        vertical-align: top;\n",
              "    }\n",
              "\n",
              "    .dataframe thead th {\n",
              "        text-align: right;\n",
              "    }\n",
              "</style>\n",
              "<table border=\"1\" class=\"dataframe\">\n",
              "  <thead>\n",
              "    <tr style=\"text-align: right;\">\n",
              "      <th>weather_enc</th>\n",
              "      <th>Cloudy</th>\n",
              "      <th>Rainy</th>\n",
              "      <th>Sunny</th>\n",
              "    </tr>\n",
              "    <tr>\n",
              "      <th>season_enc</th>\n",
              "      <th></th>\n",
              "      <th></th>\n",
              "      <th></th>\n",
              "    </tr>\n",
              "  </thead>\n",
              "  <tbody>\n",
              "    <tr>\n",
              "      <th>Autumn</th>\n",
              "      <td>807</td>\n",
              "      <td>225</td>\n",
              "      <td>1702</td>\n",
              "    </tr>\n",
              "    <tr>\n",
              "      <th>Monsoon</th>\n",
              "      <td>708</td>\n",
              "      <td>224</td>\n",
              "      <td>1801</td>\n",
              "    </tr>\n",
              "    <tr>\n",
              "      <th>Summer</th>\n",
              "      <td>715</td>\n",
              "      <td>211</td>\n",
              "      <td>1759</td>\n",
              "    </tr>\n",
              "    <tr>\n",
              "      <th>Winter</th>\n",
              "      <td>604</td>\n",
              "      <td>199</td>\n",
              "      <td>1930</td>\n",
              "    </tr>\n",
              "  </tbody>\n",
              "</table>\n",
              "</div>\n",
              "    <div class=\"colab-df-buttons\">\n",
              "\n",
              "  <div class=\"colab-df-container\">\n",
              "    <button class=\"colab-df-convert\" onclick=\"convertToInteractive('df-fa2a6b4a-d550-4d32-aeda-a91d6e578326')\"\n",
              "            title=\"Convert this dataframe to an interactive table.\"\n",
              "            style=\"display:none;\">\n",
              "\n",
              "  <svg xmlns=\"http://www.w3.org/2000/svg\" height=\"24px\" viewBox=\"0 -960 960 960\">\n",
              "    <path d=\"M120-120v-720h720v720H120Zm60-500h600v-160H180v160Zm220 220h160v-160H400v160Zm0 220h160v-160H400v160ZM180-400h160v-160H180v160Zm440 0h160v-160H620v160ZM180-180h160v-160H180v160Zm440 0h160v-160H620v160Z\"/>\n",
              "  </svg>\n",
              "    </button>\n",
              "\n",
              "  <style>\n",
              "    .colab-df-container {\n",
              "      display:flex;\n",
              "      gap: 12px;\n",
              "    }\n",
              "\n",
              "    .colab-df-convert {\n",
              "      background-color: #E8F0FE;\n",
              "      border: none;\n",
              "      border-radius: 50%;\n",
              "      cursor: pointer;\n",
              "      display: none;\n",
              "      fill: #1967D2;\n",
              "      height: 32px;\n",
              "      padding: 0 0 0 0;\n",
              "      width: 32px;\n",
              "    }\n",
              "\n",
              "    .colab-df-convert:hover {\n",
              "      background-color: #E2EBFA;\n",
              "      box-shadow: 0px 1px 2px rgba(60, 64, 67, 0.3), 0px 1px 3px 1px rgba(60, 64, 67, 0.15);\n",
              "      fill: #174EA6;\n",
              "    }\n",
              "\n",
              "    .colab-df-buttons div {\n",
              "      margin-bottom: 4px;\n",
              "    }\n",
              "\n",
              "    [theme=dark] .colab-df-convert {\n",
              "      background-color: #3B4455;\n",
              "      fill: #D2E3FC;\n",
              "    }\n",
              "\n",
              "    [theme=dark] .colab-df-convert:hover {\n",
              "      background-color: #434B5C;\n",
              "      box-shadow: 0px 1px 3px 1px rgba(0, 0, 0, 0.15);\n",
              "      filter: drop-shadow(0px 1px 2px rgba(0, 0, 0, 0.3));\n",
              "      fill: #FFFFFF;\n",
              "    }\n",
              "  </style>\n",
              "\n",
              "    <script>\n",
              "      const buttonEl =\n",
              "        document.querySelector('#df-fa2a6b4a-d550-4d32-aeda-a91d6e578326 button.colab-df-convert');\n",
              "      buttonEl.style.display =\n",
              "        google.colab.kernel.accessAllowed ? 'block' : 'none';\n",
              "\n",
              "      async function convertToInteractive(key) {\n",
              "        const element = document.querySelector('#df-fa2a6b4a-d550-4d32-aeda-a91d6e578326');\n",
              "        const dataTable =\n",
              "          await google.colab.kernel.invokeFunction('convertToInteractive',\n",
              "                                                    [key], {});\n",
              "        if (!dataTable) return;\n",
              "\n",
              "        const docLinkHtml = 'Like what you see? Visit the ' +\n",
              "          '<a target=\"_blank\" href=https://colab.research.google.com/notebooks/data_table.ipynb>data table notebook</a>'\n",
              "          + ' to learn more about interactive tables.';\n",
              "        element.innerHTML = '';\n",
              "        dataTable['output_type'] = 'display_data';\n",
              "        await google.colab.output.renderOutput(dataTable, element);\n",
              "        const docLink = document.createElement('div');\n",
              "        docLink.innerHTML = docLinkHtml;\n",
              "        element.appendChild(docLink);\n",
              "      }\n",
              "    </script>\n",
              "  </div>\n",
              "\n",
              "\n",
              "<div id=\"df-e9702291-d9bb-445d-a15d-2eb504805ab2\">\n",
              "  <button class=\"colab-df-quickchart\" onclick=\"quickchart('df-e9702291-d9bb-445d-a15d-2eb504805ab2')\"\n",
              "            title=\"Suggest charts\"\n",
              "            style=\"display:none;\">\n",
              "\n",
              "<svg xmlns=\"http://www.w3.org/2000/svg\" height=\"24px\"viewBox=\"0 0 24 24\"\n",
              "     width=\"24px\">\n",
              "    <g>\n",
              "        <path d=\"M19 3H5c-1.1 0-2 .9-2 2v14c0 1.1.9 2 2 2h14c1.1 0 2-.9 2-2V5c0-1.1-.9-2-2-2zM9 17H7v-7h2v7zm4 0h-2V7h2v10zm4 0h-2v-4h2v4z\"/>\n",
              "    </g>\n",
              "</svg>\n",
              "  </button>\n",
              "\n",
              "<style>\n",
              "  .colab-df-quickchart {\n",
              "      --bg-color: #E8F0FE;\n",
              "      --fill-color: #1967D2;\n",
              "      --hover-bg-color: #E2EBFA;\n",
              "      --hover-fill-color: #174EA6;\n",
              "      --disabled-fill-color: #AAA;\n",
              "      --disabled-bg-color: #DDD;\n",
              "  }\n",
              "\n",
              "  [theme=dark] .colab-df-quickchart {\n",
              "      --bg-color: #3B4455;\n",
              "      --fill-color: #D2E3FC;\n",
              "      --hover-bg-color: #434B5C;\n",
              "      --hover-fill-color: #FFFFFF;\n",
              "      --disabled-bg-color: #3B4455;\n",
              "      --disabled-fill-color: #666;\n",
              "  }\n",
              "\n",
              "  .colab-df-quickchart {\n",
              "    background-color: var(--bg-color);\n",
              "    border: none;\n",
              "    border-radius: 50%;\n",
              "    cursor: pointer;\n",
              "    display: none;\n",
              "    fill: var(--fill-color);\n",
              "    height: 32px;\n",
              "    padding: 0;\n",
              "    width: 32px;\n",
              "  }\n",
              "\n",
              "  .colab-df-quickchart:hover {\n",
              "    background-color: var(--hover-bg-color);\n",
              "    box-shadow: 0 1px 2px rgba(60, 64, 67, 0.3), 0 1px 3px 1px rgba(60, 64, 67, 0.15);\n",
              "    fill: var(--button-hover-fill-color);\n",
              "  }\n",
              "\n",
              "  .colab-df-quickchart-complete:disabled,\n",
              "  .colab-df-quickchart-complete:disabled:hover {\n",
              "    background-color: var(--disabled-bg-color);\n",
              "    fill: var(--disabled-fill-color);\n",
              "    box-shadow: none;\n",
              "  }\n",
              "\n",
              "  .colab-df-spinner {\n",
              "    border: 2px solid var(--fill-color);\n",
              "    border-color: transparent;\n",
              "    border-bottom-color: var(--fill-color);\n",
              "    animation:\n",
              "      spin 1s steps(1) infinite;\n",
              "  }\n",
              "\n",
              "  @keyframes spin {\n",
              "    0% {\n",
              "      border-color: transparent;\n",
              "      border-bottom-color: var(--fill-color);\n",
              "      border-left-color: var(--fill-color);\n",
              "    }\n",
              "    20% {\n",
              "      border-color: transparent;\n",
              "      border-left-color: var(--fill-color);\n",
              "      border-top-color: var(--fill-color);\n",
              "    }\n",
              "    30% {\n",
              "      border-color: transparent;\n",
              "      border-left-color: var(--fill-color);\n",
              "      border-top-color: var(--fill-color);\n",
              "      border-right-color: var(--fill-color);\n",
              "    }\n",
              "    40% {\n",
              "      border-color: transparent;\n",
              "      border-right-color: var(--fill-color);\n",
              "      border-top-color: var(--fill-color);\n",
              "    }\n",
              "    60% {\n",
              "      border-color: transparent;\n",
              "      border-right-color: var(--fill-color);\n",
              "    }\n",
              "    80% {\n",
              "      border-color: transparent;\n",
              "      border-right-color: var(--fill-color);\n",
              "      border-bottom-color: var(--fill-color);\n",
              "    }\n",
              "    90% {\n",
              "      border-color: transparent;\n",
              "      border-bottom-color: var(--fill-color);\n",
              "    }\n",
              "  }\n",
              "</style>\n",
              "\n",
              "  <script>\n",
              "    async function quickchart(key) {\n",
              "      const quickchartButtonEl =\n",
              "        document.querySelector('#' + key + ' button');\n",
              "      quickchartButtonEl.disabled = true;  // To prevent multiple clicks.\n",
              "      quickchartButtonEl.classList.add('colab-df-spinner');\n",
              "      try {\n",
              "        const charts = await google.colab.kernel.invokeFunction(\n",
              "            'suggestCharts', [key], {});\n",
              "      } catch (error) {\n",
              "        console.error('Error during call to suggestCharts:', error);\n",
              "      }\n",
              "      quickchartButtonEl.classList.remove('colab-df-spinner');\n",
              "      quickchartButtonEl.classList.add('colab-df-quickchart-complete');\n",
              "    }\n",
              "    (() => {\n",
              "      let quickchartButtonEl =\n",
              "        document.querySelector('#df-e9702291-d9bb-445d-a15d-2eb504805ab2 button');\n",
              "      quickchartButtonEl.style.display =\n",
              "        google.colab.kernel.accessAllowed ? 'block' : 'none';\n",
              "    })();\n",
              "  </script>\n",
              "</div>\n",
              "    </div>\n",
              "  </div>\n"
            ],
            "application/vnd.google.colaboratory.intrinsic+json": {
              "type": "dataframe",
              "variable_name": "contigency",
              "summary": "{\n  \"name\": \"contigency\",\n  \"rows\": 4,\n  \"fields\": [\n    {\n      \"column\": \"Cloudy\",\n      \"properties\": {\n        \"dtype\": \"number\",\n        \"std\": 82,\n        \"min\": 604,\n        \"max\": 807,\n        \"num_unique_values\": 4,\n        \"samples\": [\n          708,\n          604,\n          807\n        ],\n        \"semantic_type\": \"\",\n        \"description\": \"\"\n      }\n    },\n    {\n      \"column\": \"Rainy\",\n      \"properties\": {\n        \"dtype\": \"number\",\n        \"std\": 12,\n        \"min\": 199,\n        \"max\": 225,\n        \"num_unique_values\": 4,\n        \"samples\": [\n          224,\n          199,\n          225\n        ],\n        \"semantic_type\": \"\",\n        \"description\": \"\"\n      }\n    },\n    {\n      \"column\": \"Sunny\",\n      \"properties\": {\n        \"dtype\": \"number\",\n        \"std\": 96,\n        \"min\": 1702,\n        \"max\": 1930,\n        \"num_unique_values\": 4,\n        \"samples\": [\n          1801,\n          1930,\n          1702\n        ],\n        \"semantic_type\": \"\",\n        \"description\": \"\"\n      }\n    }\n  ]\n}"
            }
          },
          "metadata": {},
          "execution_count": 97
        }
      ]
    },
    {
      "cell_type": "code",
      "source": [
        "contigency.plot(kind='bar')"
      ],
      "metadata": {
        "colab": {
          "base_uri": "https://localhost:8080/"
        },
        "id": "ziL0jH6g2Hwa",
        "outputId": "bce5fbcb-7379-44b2-9e7a-c4356f0d9b38"
      },
      "id": "ziL0jH6g2Hwa",
      "execution_count": null,
      "outputs": [
        {
          "output_type": "execute_result",
          "data": {
            "text/plain": [
              "<Axes: xlabel='season_enc'>"
            ]
          },
          "metadata": {},
          "execution_count": 98
        },
        {
          "output_type": "display_data",
          "data": {
            "text/plain": [
              "<Figure size 640x480 with 1 Axes>"
            ],
            "image/png": "[encoded data removed]"
          },
          "metadata": {}
        }
      ]
    },
    {
      "cell_type": "markdown",
      "source": [
        "#### **Step 3:** Decide the significance level\n",
        "\n",
        "The significance level (α) is already set to 5% i.e., 0.05"
      ],
      "metadata": {
        "id": "HSpuLFg51n5z"
      },
      "id": "HSpuLFg51n5z"
    },
    {
      "cell_type": "markdown",
      "source": [
        "#### **Step 4:** Calculate the p-value"
      ],
      "metadata": {
        "id": "hVqApkVB2s56"
      },
      "id": "hVqApkVB2s56"
    },
    {
      "cell_type": "code",
      "source": [
        "chi2, pval, dof, exp_freq = chi2_contingency(contigency, correction=False)\n",
        "print('Chi-square Statistic: {} \\n P-value: {} \\n Degree of Freedom: {} \\n Expected Frequencies: {}'.format(chi2, pval, dof, exp_freq))"
      ],
      "metadata": {
        "colab": {
          "base_uri": "https://localhost:8080/"
        },
        "id": "OMb37Jx61oiT",
        "outputId": "e70c5b3e-e7c0-4292-d40b-a458de9ef0d1"
      },
      "id": "OMb37Jx61oiT",
      "execution_count": null,
      "outputs": [
        {
          "output_type": "stream",
          "name": "stdout",
          "text": [
            "Chi-square Statistic: 46.10145731073249 \n",
            " P-value: 2.8260014509929343e-08 \n",
            " Degree of Freedom: 6 \n",
            " Expected Frequencies: [[ 711.81956821  215.75617823 1806.42425356]\n",
            " [ 711.55920992  215.67726229 1805.76352779]\n",
            " [ 699.06201194  211.8892972  1774.04869086]\n",
            " [ 711.55920992  215.67726229 1805.76352779]]\n"
          ]
        }
      ]
    },
    {
      "cell_type": "code",
      "source": [
        "result(pval, alpha)"
      ],
      "metadata": {
        "colab": {
          "base_uri": "https://localhost:8080/"
        },
        "id": "QzWP8tA53AaU",
        "outputId": "439a80c6-57ae-4ced-9ea0-0704372ca1c5"
      },
      "id": "QzWP8tA53AaU",
      "execution_count": null,
      "outputs": [
        {
          "output_type": "stream",
          "name": "stdout",
          "text": [
            "As the p-value 2.8260014509929343e-08 is less than the level of significance, we reject the null hypothesis.\n"
          ]
        }
      ]
    },
    {
      "cell_type": "markdown",
      "source": [
        "**Observation:** Since the p-value is less than the 5% significance level, we reject the null hypothesis. Hence, we have enough statistical evidence to say that the weather conditions are dependent on the ongoing season."
      ],
      "metadata": {
        "id": "iK_PV2gN3p4k"
      },
      "id": "iK_PV2gN3p4k"
    },
    {
      "cell_type": "markdown",
      "source": [
        "### Insights and Recommendations"
      ],
      "metadata": {
        "id": "ppdVuxg_-n4g"
      },
      "id": "ppdVuxg_-n4g"
    },
    {
      "cell_type": "markdown",
      "source": [
        "#### **EDA based insights -**\n",
        "\n",
        "1. Total 10,886 rows were present in the data set.\n",
        "2. Neither missing values, nor duplicate rows were found.\n",
        "3. 'temp' and 'atemp' columns were found to be highly correlated. </br> Dropping one of them (atemp) to avoid multicollinearity.\n",
        "4. 'count', 'casual' and 'registered' columns were highly correlated. </br> Dropping casual & registered columns to avoid multicollinearity.\n",
        "5. Outlier values were found in the 'count' column.\n",
        "\n",
        "#### **Insights from hypothesis testing -**\n",
        "1. The no. of bikes rented on weekdays is comparatively higher than on weekends.\n",
        "2. The no. of bikes rented on regular days is comparatively higher than on holidays.\n",
        "2. The demand of bicycles on rent differs under different weather conditions.\n",
        "3. The demand of bicycles on rent is different during different seasons.\n",
        "4. The weather conditions are surely dependent upon the ongoing season.\n",
        "\n",
        "#### **Miscellaneous observations -**\n",
        "The distribution of 'count' column wasn't actually normal or near normal. </br> Infact the column's distribution is found to be a bit skewed towards right.\n",
        "\n",
        "#### **Generic recommendations -**\n",
        "\n",
        "* The demand of bikes on rent are usually higher during Weekdays.\n",
        "* The demand of bikes on rent are usually higher during Regular days.\n",
        "* The chances of person renting a bike are usually higher during Season 3.\n",
        "* The chances of person renting a bike are usually higher during Weather condition 1.\n",
        "\n",
        "We recommend the company to maintain the bike stocks accordingly.\n",
        "\n"
      ],
      "metadata": {
        "id": "r2MPKT9d-tDG"
      },
      "id": "r2MPKT9d-tDG"
    },
    {
      "cell_type": "code",
      "source": [],
      "metadata": {
        "id": "AdiRKX7OXy1p"
      },
      "id": "AdiRKX7OXy1p",
      "execution_count": null,
      "outputs": []
    }
  ],
  "metadata": {
    "kernelspec": {
      "display_name": "Python 3 (ipykernel)",
      "language": "python",
      "name": "python3"
    },
    "language_info": {
      "codemirror_mode": {
        "name": "ipython",
        "version": 3
      },
      "file_extension": ".py",
      "mimetype": "text/x-python",
      "name": "python",
      "nbconvert_exporter": "python",
      "pygments_lexer": "ipython3",
      "version": "3.9.7"
    },
    "colab": {
      "provenance": [],
      "collapsed_sections": [
        "cFoUBGA0b7GA",
        "6U7Lb36rTJ99",
        "afc32419",
        "f9vCWvfh2YrU",
        "1SXayIkB7xJC",
        "Hlpw6E1Ax4DF",
        "ppdVuxg_-n4g"
      ],
      "include_colab_link": true
    }
  },
  "nbformat": 4,
  "nbformat_minor": 5
}